{
 "cells": [
  {
   "cell_type": "markdown",
   "metadata": {},
   "source": [
    "# Case Model Classification - Part 2 (R)\n",
    "\n",
    "## Modelagem\n",
    "\n",
    "### Objetivos do projeto: desenvolver um modelo que estime a propensão de um cliente aceitar as ofertas dos produtos nos próximos 30 dias\n",
    "\n",
    "### Metodologia:\n",
    "\n",
    "1. Primeiramente, transformou-se variáveis categóricas em fatores no R. Como não se sabe o que significa de fato boa parte das variáveis, optou-se por assumir que tais variáveis binárias (com respostas 1 e 0) são categóricas incluindo variável answer (resposta), carregando-as no R como fatores. Além disso, a coluna id_category que possui valores inteiros de 0 a 5, também foi transformada em fator, já que entende-se que cada número representa uma categoria.\n",
    "\n",
    "\n",
    "2. Após esse passo, retirou-se coluna id da base, pois esta serve apenas como identificador do cliente e não remete a nenhuma característica útil do cliente para a predição no modelo.\n",
    "\n",
    "\n",
    "3. A seguir, uma semente foi definida e separou-se a base em dois conjuntos: treino (80% da base com 738194 registros) e teste (20% da base com 184548), para que o desempenho do modelo consiga ser testado atraves da validação cruzada.\n",
    "\n",
    "\n",
    "4. Com bases treino e teste definidas, inicia-se o processo de modelagem utilizando variações de tipos de modelo, com o intuito de encontrar algum método que melhor defina o evento e seja capaz de prevê-lo de forma mais assertiva.\n",
    "\n",
    "\n",
    "5. A partir de um erro baixo, começa-se a alterar parâmetros de tuning para se tentar obter ganho de predição no método do modelo escolhido. \n",
    "\n",
    "\n",
    "**Obs:** como este é um problema de classificação, é importante citar que para alguns modelos necessita-se escoher uma taxa de corte em relação a probabilidade de chance da resposta ser 1 ou 0. Para isso, uma função que testa diversos cortes e retorna o que possui maior taxa de acerto foi criada e utilizada.\n",
    "\n",
    "\n",
    "#### Autor: Vinicius Maia"
   ]
  },
  {
   "cell_type": "markdown",
   "metadata": {},
   "source": [
    "#### Fazendo preparações de dados iniciais "
   ]
  },
  {
   "cell_type": "markdown",
   "metadata": {},
   "source": [
    "Inicia-se o codigo utilizando arquivo csv gerado a partir do tratamento das bases feitas no jupyter \"1 - Case Itaú - Análise exploratória.ipynb\". A base gerada chama-se Base_modelo.csv"
   ]
  },
  {
   "cell_type": "code",
   "execution_count": 1,
   "metadata": {
    "ExecuteTime": {
     "end_time": "2019-12-15T19:37:46.809932Z",
     "start_time": "2019-12-15T19:37:35.005Z"
    }
   },
   "outputs": [],
   "source": [
    "df <- read.csv(\"Base_modelo.csv\")\n",
    "\n",
    "# Transformando dados categóricos em factors no R\n",
    "df$answer <- as.factor(df$answer)\n",
    "df$id_category <- as.factor(df$id_category)\n",
    "df$var1 <- as.factor(df$var1)\n",
    "for(i in c(17:length(colnames(df))-1)){\n",
    "  df[,i] <- as.factor(df[,i])\n",
    "}\n",
    "\n",
    "# Retirando coluna de id\n",
    "df=subset(df, select=-c(id))\n",
    "\n",
    "\n",
    "# Separando amostras de treino e teste\n",
    "n <- nrow(df)\n",
    "set.seed(1)\n",
    "ids <- sample(1:n, round(0.80*n))\n",
    "treino <- df[ids,]\n",
    "teste <- df[-ids,]"
   ]
  },
  {
   "cell_type": "code",
   "execution_count": 2,
   "metadata": {
    "ExecuteTime": {
     "end_time": "2019-12-15T19:37:46.872926Z",
     "start_time": "2019-12-15T19:37:36.073Z"
    }
   },
   "outputs": [
    {
     "name": "stdout",
     "output_type": "stream",
     "text": [
      "[1] 184548\n",
      "[1] 738194\n"
     ]
    }
   ],
   "source": [
    "# Tamanho de cada amostra\n",
    "print(nrow(teste))\n",
    "print(nrow(treino))"
   ]
  },
  {
   "cell_type": "code",
   "execution_count": 3,
   "metadata": {
    "ExecuteTime": {
     "end_time": "2019-12-15T19:37:46.898719Z",
     "start_time": "2019-12-15T19:37:36.724Z"
    }
   },
   "outputs": [],
   "source": [
    "# Função para obter melhor valor de corte e respectivo erro\n",
    "escolhe_corte <- function(probs, real, plotar = FALSE) {\n",
    "  corte <- seq(0, 1, 0.02)\n",
    "  erro <- numeric()\n",
    "  for(i in 1:length(corte)){\n",
    "    predicao <- as.integer(probs > corte[i])\n",
    "    \n",
    "    if(is.numeric(real)){\n",
    "      erro[i] <- mean((predicao - real)^2)\n",
    "    }\n",
    "    else if(is.factor(real)){\n",
    "      erro[i] <- mean((predicao != real))\n",
    "    }\n",
    "    \n",
    "  }\n",
    "  if(plotar){\n",
    "    plot(corte, erro, type = \"l\")\n",
    "    abline(v=corte[which.min(erro)], col=\"red\")\n",
    "  }\n",
    "  \n",
    "  return(c(corte = corte[which.min(erro)], erro = min(erro)))\n",
    "}"
   ]
  },
  {
   "cell_type": "code",
   "execution_count": 21,
   "metadata": {
    "ExecuteTime": {
     "end_time": "2019-12-15T08:28:15.321584Z",
     "start_time": "2019-12-15T08:28:06.965Z"
    }
   },
   "outputs": [],
   "source": [
    "# Criando DataFrame de Comparação\n",
    "resultados <- data.frame(metodo = character(), erro = numeric(), corte = numeric(), \n",
    "                         stringsAsFactors = F)"
   ]
  },
  {
   "cell_type": "markdown",
   "metadata": {},
   "source": [
    "### Regressao Logística"
   ]
  },
  {
   "cell_type": "code",
   "execution_count": 22,
   "metadata": {
    "ExecuteTime": {
     "end_time": "2019-12-15T08:29:21.870892Z",
     "start_time": "2019-12-15T08:28:34.250Z"
    }
   },
   "outputs": [
    {
     "data": {
      "text/plain": [
       "\n",
       "Call:\n",
       "glm(formula = answer ~ ., family = \"binomial\", data = treino)\n",
       "\n",
       "Deviance Residuals: \n",
       "     Min        1Q    Median        3Q       Max  \n",
       "-2.38452  -0.00010  -0.00006   0.76543   1.79835  \n",
       "\n",
       "Coefficients:\n",
       "               Estimate Std. Error z value Pr(>|z|)    \n",
       "(Intercept)  -8.579e-01  3.924e-02 -21.860  < 2e-16 ***\n",
       "timestamp     4.339e-04  3.647e-05  11.898  < 2e-16 ***\n",
       "id_category1  7.372e-03  1.042e-02   0.708 0.479254    \n",
       "id_category2  3.594e-02  1.028e-02   3.495 0.000474 ***\n",
       "id_category3 -3.148e-02  1.149e-02  -2.739 0.006168 ** \n",
       "id_category4 -2.699e-02  4.915e-02  -0.549 0.582972    \n",
       "id_category5  2.926e-03  7.014e-02   0.042 0.966726    \n",
       "start_date    1.973e-04  1.283e-05  15.378  < 2e-16 ***\n",
       "var11        -3.819e+01  4.406e+01  -0.867 0.386047    \n",
       "var0          2.107e-06  3.019e-07   6.979 2.97e-12 ***\n",
       "var2          1.912e+01  2.203e+01   0.868 0.385541    \n",
       "var3          5.782e-03  2.720e-04  21.256  < 2e-16 ***\n",
       "var4         -5.890e-03  5.488e-04 -10.732  < 2e-16 ***\n",
       "var5         -1.284e-02  1.464e-03  -8.773  < 2e-16 ***\n",
       "var6         -1.587e-01  2.576e-03 -61.609  < 2e-16 ***\n",
       "var7         -8.357e-03  3.713e-04 -22.507  < 2e-16 ***\n",
       "var8         -2.573e-02  2.292e-03 -11.226  < 2e-16 ***\n",
       "var9         -1.097e-03  1.865e-03  -0.588 0.556268    \n",
       "var101        1.371e-01  1.239e-02  11.066  < 2e-16 ***\n",
       "var111       -3.041e-02  1.223e-02  -2.486 0.012931 *  \n",
       "var121       -9.240e-02  1.297e-02  -7.123 1.06e-12 ***\n",
       "var131        2.201e-01  1.329e-02  16.562  < 2e-16 ***\n",
       "var141       -6.422e-02  1.203e-02  -5.336 9.48e-08 ***\n",
       "var151       -5.890e-02  1.329e-02  -4.433 9.30e-06 ***\n",
       "var161        1.579e-01  1.590e-02   9.928  < 2e-16 ***\n",
       "var171       -9.245e-02  1.269e-02  -7.286 3.19e-13 ***\n",
       "var181        3.490e-02  1.213e-02   2.877 0.004011 ** \n",
       "var191       -7.142e-02  1.552e-02  -4.602 4.19e-06 ***\n",
       "var201       -2.888e-01  1.664e-02 -17.359  < 2e-16 ***\n",
       "var211        6.589e-02  3.627e-02   1.817 0.069282 .  \n",
       "var221        1.941e-01  1.480e-02  13.113  < 2e-16 ***\n",
       "var231       -2.534e-01  1.407e-02 -18.011  < 2e-16 ***\n",
       "var241        6.973e-02  1.296e-02   5.378 7.52e-08 ***\n",
       "var251       -1.479e-02  9.165e-03  -1.614 0.106540    \n",
       "var261       -2.756e-01  1.365e-02 -20.188  < 2e-16 ***\n",
       "var271        9.163e-02  1.320e-02   6.941 3.91e-12 ***\n",
       "var281       -2.005e-01  3.477e-02  -5.766 8.11e-09 ***\n",
       "var291       -1.016e-02  1.262e-02  -0.805 0.420552    \n",
       "var301        1.838e-01  1.369e-02  13.429  < 2e-16 ***\n",
       "var311       -1.518e-02  1.246e-02  -1.219 0.222958    \n",
       "var321       -1.647e-02  1.227e-02  -1.342 0.179589    \n",
       "var331       -1.323e-01  1.371e-02  -9.649  < 2e-16 ***\n",
       "var341        1.504e-01  1.291e-02  11.650  < 2e-16 ***\n",
       "var351        1.586e-01  1.191e-02  13.319  < 2e-16 ***\n",
       "var361        2.455e-02  1.474e-02   1.665 0.095820 .  \n",
       "var371       -2.721e-02  1.702e-02  -1.599 0.109903    \n",
       "var38         2.190e-02  1.925e-04 113.751  < 2e-16 ***\n",
       "---\n",
       "Signif. codes:  0 '***' 0.001 '**' 0.01 '*' 0.05 '.' 0.1 ' ' 1\n",
       "\n",
       "(Dispersion parameter for binomial family taken to be 1)\n",
       "\n",
       "    Null deviance: 1023299  on 738193  degrees of freedom\n",
       "Residual deviance:  575622  on 738147  degrees of freedom\n",
       "AIC: 575716\n",
       "\n",
       "Number of Fisher Scoring iterations: 18\n"
      ]
     },
     "metadata": {},
     "output_type": "display_data"
    }
   ],
   "source": [
    "# Fazendo fit da função\n",
    "logistic_model <- glm(answer ~ .,family=\"binomial\", data = treino)\n",
    "summary(logistic_model)"
   ]
  },
  {
   "cell_type": "code",
   "execution_count": 23,
   "metadata": {
    "ExecuteTime": {
     "end_time": "2019-12-15T08:29:22.834243Z",
     "start_time": "2019-12-15T08:28:53.513Z"
    }
   },
   "outputs": [
    {
     "name": "stdout",
     "output_type": "stream",
     "text": [
      "    corte      erro \n",
      "0.5400000 0.1860925 \n"
     ]
    },
    {
     "data": {
      "image/png": "[encoded data removed]",
      "text/plain": [
       "plot without title"
      ]
     },
     "metadata": {},
     "output_type": "display_data"
    }
   ],
   "source": [
    "# Testando modelo\n",
    "pred_logistico <- predict(logistic_model, newdata = teste, type=\"response\")\n",
    "\n",
    "temp <- escolhe_corte(pred_logistico, teste$answer, plotar = T)\n",
    "\n",
    "resultados[nrow(resultados)+1, ] = c(\"Logistico\", temp[2], temp[1])\n",
    "print(temp)"
   ]
  },
  {
   "cell_type": "code",
   "execution_count": 24,
   "metadata": {
    "ExecuteTime": {
     "end_time": "2019-12-15T08:29:31.825266Z",
     "start_time": "2019-12-15T08:29:31.790Z"
    }
   },
   "outputs": [
    {
     "name": "stdout",
     "output_type": "stream",
     "text": [
      "     metodo              erro corte\n",
      "1 Logistico 0.186092507098424  0.54\n"
     ]
    }
   ],
   "source": [
    "# Erro de logistica\n",
    "print(resultados)"
   ]
  },
  {
   "cell_type": "markdown",
   "metadata": {},
   "source": [
    "### Regressão Logística com Seleção"
   ]
  },
  {
   "cell_type": "markdown",
   "metadata": {},
   "source": [
    "#### Utilizando Stepwise\n",
    "\n",
    "Stepwise é uma variação do método Bestsubset Selection (diminuição do número de variáveis para aquelas que tem mais poder preditivo ao problema) com a vatangem de gerar um custo computacional menor. Isso ocorre, pois não são testadas todas as variações de subconjuntos. Os subconjuntos são utilizados apenas para a adição de uma variável (a que for mais relevante) em cada iteração.\n",
    "\n",
    "O método utilizado para escolha de variáveis e a que produz um menor valor de RSS."
   ]
  },
  {
   "cell_type": "code",
   "execution_count": 25,
   "metadata": {
    "ExecuteTime": {
     "end_time": "2019-12-15T08:30:35.592591Z",
     "start_time": "2019-12-15T08:30:35.562Z"
    }
   },
   "outputs": [],
   "source": [
    "#install.packages('leaps')"
   ]
  },
  {
   "cell_type": "code",
   "execution_count": 26,
   "metadata": {
    "ExecuteTime": {
     "end_time": "2019-12-15T08:30:37.717306Z",
     "start_time": "2019-12-15T08:30:37.663Z"
    },
    "scrolled": true
   },
   "outputs": [],
   "source": [
    "library(leaps)"
   ]
  },
  {
   "cell_type": "code",
   "execution_count": 27,
   "metadata": {
    "ExecuteTime": {
     "end_time": "2019-12-15T08:30:39.437921Z",
     "start_time": "2019-12-15T08:30:39.413Z"
    }
   },
   "outputs": [],
   "source": [
    "# função para previsão de best subsets\n",
    "predict.regsubsets <- function(object, newdata, id,...){\n",
    "  form <- as.formula(object$call[[2]])\n",
    "  matriz <- model.matrix(form, newdata)\n",
    "  coeficientes <- coef(object, id = id)\n",
    "  \n",
    "  return(matriz[, names(coeficientes)] %*% coeficientes)\n",
    "  \n",
    "}"
   ]
  },
  {
   "cell_type": "markdown",
   "metadata": {},
   "source": [
    "Colocando como máximo numero de combinações em 200, apenas para garantir que todas as combinações sejam testadas. So existem 46 combinações de variáveis preditoras na base."
   ]
  },
  {
   "cell_type": "code",
   "execution_count": 28,
   "metadata": {
    "ExecuteTime": {
     "end_time": "2019-12-15T08:30:43.953059Z",
     "start_time": "2019-12-15T08:30:41.894Z"
    }
   },
   "outputs": [],
   "source": [
    "mod_stepf <- regsubsets(answer ~ ., data = treino, nvmax = 200, method = \"forward\")"
   ]
  },
  {
   "cell_type": "code",
   "execution_count": 29,
   "metadata": {
    "ExecuteTime": {
     "end_time": "2019-12-15T08:30:45.476846Z",
     "start_time": "2019-12-15T08:30:45.437Z"
    }
   },
   "outputs": [
    {
     "data": {
      "text/plain": [
       "Subset selection object\n",
       "Call: regsubsets.formula(answer ~ ., data = treino, nvmax = 200, method = \"forward\")\n",
       "46 Variables  (and intercept)\n",
       "             Forced in Forced out\n",
       "timestamp        FALSE      FALSE\n",
       "id_category1     FALSE      FALSE\n",
       "id_category2     FALSE      FALSE\n",
       "id_category3     FALSE      FALSE\n",
       "id_category4     FALSE      FALSE\n",
       "id_category5     FALSE      FALSE\n",
       "start_date       FALSE      FALSE\n",
       "var11            FALSE      FALSE\n",
       "var0             FALSE      FALSE\n",
       "var2             FALSE      FALSE\n",
       "var3             FALSE      FALSE\n",
       "var4             FALSE      FALSE\n",
       "var5             FALSE      FALSE\n",
       "var6             FALSE      FALSE\n",
       "var7             FALSE      FALSE\n",
       "var8             FALSE      FALSE\n",
       "var9             FALSE      FALSE\n",
       "var101           FALSE      FALSE\n",
       "var111           FALSE      FALSE\n",
       "var121           FALSE      FALSE\n",
       "var131           FALSE      FALSE\n",
       "var141           FALSE      FALSE\n",
       "var151           FALSE      FALSE\n",
       "var161           FALSE      FALSE\n",
       "var171           FALSE      FALSE\n",
       "var181           FALSE      FALSE\n",
       "var191           FALSE      FALSE\n",
       "var201           FALSE      FALSE\n",
       "var211           FALSE      FALSE\n",
       "var221           FALSE      FALSE\n",
       "var231           FALSE      FALSE\n",
       "var241           FALSE      FALSE\n",
       "var251           FALSE      FALSE\n",
       "var261           FALSE      FALSE\n",
       "var271           FALSE      FALSE\n",
       "var281           FALSE      FALSE\n",
       "var291           FALSE      FALSE\n",
       "var301           FALSE      FALSE\n",
       "var311           FALSE      FALSE\n",
       "var321           FALSE      FALSE\n",
       "var331           FALSE      FALSE\n",
       "var341           FALSE      FALSE\n",
       "var351           FALSE      FALSE\n",
       "var361           FALSE      FALSE\n",
       "var371           FALSE      FALSE\n",
       "var38            FALSE      FALSE\n",
       "1 subsets of each size up to 46\n",
       "Selection Algorithm: forward\n",
       "          timestamp id_category1 id_category2 id_category3 id_category4\n",
       "1  ( 1 )  \" \"       \" \"          \" \"          \" \"          \" \"         \n",
       "2  ( 1 )  \" \"       \" \"          \" \"          \" \"          \" \"         \n",
       "3  ( 1 )  \" \"       \" \"          \" \"          \" \"          \" \"         \n",
       "4  ( 1 )  \" \"       \" \"          \" \"          \" \"          \" \"         \n",
       "5  ( 1 )  \" \"       \" \"          \" \"          \" \"          \" \"         \n",
       "6  ( 1 )  \" \"       \" \"          \" \"          \" \"          \" \"         \n",
       "7  ( 1 )  \" \"       \" \"          \" \"          \" \"          \" \"         \n",
       "8  ( 1 )  \" \"       \" \"          \" \"          \" \"          \" \"         \n",
       "9  ( 1 )  \" \"       \" \"          \" \"          \" \"          \" \"         \n",
       "10  ( 1 ) \" \"       \" \"          \" \"          \" \"          \" \"         \n",
       "11  ( 1 ) \" \"       \" \"          \" \"          \" \"          \" \"         \n",
       "12  ( 1 ) \"*\"       \" \"          \" \"          \" \"          \" \"         \n",
       "13  ( 1 ) \"*\"       \" \"          \" \"          \" \"          \" \"         \n",
       "14  ( 1 ) \"*\"       \" \"          \" \"          \" \"          \" \"         \n",
       "15  ( 1 ) \"*\"       \" \"          \" \"          \" \"          \" \"         \n",
       "16  ( 1 ) \"*\"       \" \"          \" \"          \" \"          \" \"         \n",
       "17  ( 1 ) \"*\"       \" \"          \" \"          \" \"          \" \"         \n",
       "18  ( 1 ) \"*\"       \" \"          \" \"          \" \"          \" \"         \n",
       "19  ( 1 ) \"*\"       \" \"          \" \"          \" \"          \" \"         \n",
       "20  ( 1 ) \"*\"       \" \"          \" \"          \" \"          \" \"         \n",
       "21  ( 1 ) \"*\"       \" \"          \" \"          \" \"          \" \"         \n",
       "22  ( 1 ) \"*\"       \" \"          \" \"          \" \"          \" \"         \n",
       "23  ( 1 ) \"*\"       \" \"          \" \"          \" \"          \" \"         \n",
       "24  ( 1 ) \"*\"       \" \"          \" \"          \" \"          \" \"         \n",
       "25  ( 1 ) \"*\"       \" \"          \" \"          \" \"          \" \"         \n",
       "26  ( 1 ) \"*\"       \" \"          \" \"          \" \"          \" \"         \n",
       "27  ( 1 ) \"*\"       \" \"          \" \"          \" \"          \" \"         \n",
       "28  ( 1 ) \"*\"       \" \"          \" \"          \" \"          \" \"         \n",
       "29  ( 1 ) \"*\"       \" \"          \" \"          \" \"          \" \"         \n",
       "30  ( 1 ) \"*\"       \" \"          \" \"          \" \"          \" \"         \n",
       "31  ( 1 ) \"*\"       \" \"          \" \"          \"*\"          \" \"         \n",
       "32  ( 1 ) \"*\"       \" \"          \" \"          \"*\"          \" \"         \n",
       "33  ( 1 ) \"*\"       \" \"          \" \"          \"*\"          \" \"         \n",
       "34  ( 1 ) \"*\"       \" \"          \" \"          \"*\"          \" \"         \n",
       "35  ( 1 ) \"*\"       \" \"          \"*\"          \"*\"          \" \"         \n",
       "36  ( 1 ) \"*\"       \" \"          \"*\"          \"*\"          \" \"         \n",
       "37  ( 1 ) \"*\"       \" \"          \"*\"          \"*\"          \" \"         \n",
       "38  ( 1 ) \"*\"       \" \"          \"*\"          \"*\"          \" \"         \n",
       "39  ( 1 ) \"*\"       \" \"          \"*\"          \"*\"          \" \"         \n",
       "40  ( 1 ) \"*\"       \" \"          \"*\"          \"*\"          \" \"         \n",
       "41  ( 1 ) \"*\"       \" \"          \"*\"          \"*\"          \" \"         \n",
       "42  ( 1 ) \"*\"       \" \"          \"*\"          \"*\"          \"*\"         \n",
       "43  ( 1 ) \"*\"       \" \"          \"*\"          \"*\"          \"*\"         \n",
       "44  ( 1 ) \"*\"       \"*\"          \"*\"          \"*\"          \"*\"         \n",
       "45  ( 1 ) \"*\"       \"*\"          \"*\"          \"*\"          \"*\"         \n",
       "46  ( 1 ) \"*\"       \"*\"          \"*\"          \"*\"          \"*\"         \n",
       "          id_category5 start_date var11 var0 var2 var3 var4 var5 var6 var7 var8\n",
       "1  ( 1 )  \" \"          \" \"        \" \"   \" \"  \" \"  \" \"  \" \"  \" \"  \" \"  \" \"  \" \" \n",
       "2  ( 1 )  \" \"          \" \"        \" \"   \" \"  \" \"  \" \"  \" \"  \" \"  \"*\"  \" \"  \" \" \n",
       "3  ( 1 )  \" \"          \" \"        \" \"   \"*\"  \" \"  \" \"  \" \"  \" \"  \"*\"  \" \"  \" \" \n",
       "4  ( 1 )  \" \"          \" \"        \" \"   \"*\"  \"*\"  \" \"  \" \"  \" \"  \"*\"  \" \"  \" \" \n",
       "5  ( 1 )  \" \"          \" \"        \"*\"   \"*\"  \"*\"  \" \"  \" \"  \" \"  \"*\"  \" \"  \" \" \n",
       "6  ( 1 )  \" \"          \" \"        \"*\"   \"*\"  \"*\"  \" \"  \" \"  \" \"  \"*\"  \"*\"  \" \" \n",
       "7  ( 1 )  \" \"          \" \"        \"*\"   \"*\"  \"*\"  \" \"  \" \"  \" \"  \"*\"  \"*\"  \" \" \n",
       "8  ( 1 )  \" \"          \" \"        \"*\"   \"*\"  \"*\"  \" \"  \" \"  \" \"  \"*\"  \"*\"  \" \" \n",
       "9  ( 1 )  \" \"          \" \"        \"*\"   \"*\"  \"*\"  \" \"  \" \"  \" \"  \"*\"  \"*\"  \"*\" \n",
       "10  ( 1 ) \" \"          \" \"        \"*\"   \"*\"  \"*\"  \" \"  \" \"  \" \"  \"*\"  \"*\"  \"*\" \n",
       "11  ( 1 ) \" \"          \" \"        \"*\"   \"*\"  \"*\"  \" \"  \" \"  \" \"  \"*\"  \"*\"  \"*\" \n",
       "12  ( 1 ) \" \"          \" \"        \"*\"   \"*\"  \"*\"  \" \"  \" \"  \" \"  \"*\"  \"*\"  \"*\" \n",
       "13  ( 1 ) \" \"          \" \"        \"*\"   \"*\"  \"*\"  \"*\"  \" \"  \" \"  \"*\"  \"*\"  \"*\" \n",
       "14  ( 1 ) \" \"          \" \"        \"*\"   \"*\"  \"*\"  \"*\"  \" \"  \" \"  \"*\"  \"*\"  \"*\" \n",
       "15  ( 1 ) \" \"          \" \"        \"*\"   \"*\"  \"*\"  \"*\"  \" \"  \" \"  \"*\"  \"*\"  \"*\" \n",
       "16  ( 1 ) \" \"          \" \"        \"*\"   \"*\"  \"*\"  \"*\"  \" \"  \" \"  \"*\"  \"*\"  \"*\" \n",
       "17  ( 1 ) \" \"          \" \"        \"*\"   \"*\"  \"*\"  \"*\"  \" \"  \" \"  \"*\"  \"*\"  \"*\" \n",
       "18  ( 1 ) \" \"          \" \"        \"*\"   \"*\"  \"*\"  \"*\"  \" \"  \" \"  \"*\"  \"*\"  \"*\" \n",
       "19  ( 1 ) \" \"          \"*\"        \"*\"   \"*\"  \"*\"  \"*\"  \" \"  \" \"  \"*\"  \"*\"  \"*\" \n",
       "20  ( 1 ) \" \"          \"*\"        \"*\"   \"*\"  \"*\"  \"*\"  \" \"  \" \"  \"*\"  \"*\"  \"*\" \n",
       "21  ( 1 ) \" \"          \"*\"        \"*\"   \"*\"  \"*\"  \"*\"  \" \"  \"*\"  \"*\"  \"*\"  \"*\" \n",
       "22  ( 1 ) \" \"          \"*\"        \"*\"   \"*\"  \"*\"  \"*\"  \" \"  \"*\"  \"*\"  \"*\"  \"*\" \n",
       "23  ( 1 ) \" \"          \"*\"        \"*\"   \"*\"  \"*\"  \"*\"  \"*\"  \"*\"  \"*\"  \"*\"  \"*\" \n",
       "24  ( 1 ) \" \"          \"*\"        \"*\"   \"*\"  \"*\"  \"*\"  \"*\"  \"*\"  \"*\"  \"*\"  \"*\" \n",
       "25  ( 1 ) \" \"          \"*\"        \"*\"   \"*\"  \"*\"  \"*\"  \"*\"  \"*\"  \"*\"  \"*\"  \"*\" \n",
       "26  ( 1 ) \" \"          \"*\"        \"*\"   \"*\"  \"*\"  \"*\"  \"*\"  \"*\"  \"*\"  \"*\"  \"*\" \n",
       "27  ( 1 ) \" \"          \"*\"        \"*\"   \"*\"  \"*\"  \"*\"  \"*\"  \"*\"  \"*\"  \"*\"  \"*\" \n",
       "28  ( 1 ) \" \"          \"*\"        \"*\"   \"*\"  \"*\"  \"*\"  \"*\"  \"*\"  \"*\"  \"*\"  \"*\" \n",
       "29  ( 1 ) \" \"          \"*\"        \"*\"   \"*\"  \"*\"  \"*\"  \"*\"  \"*\"  \"*\"  \"*\"  \"*\" \n",
       "30  ( 1 ) \" \"          \"*\"        \"*\"   \"*\"  \"*\"  \"*\"  \"*\"  \"*\"  \"*\"  \"*\"  \"*\" \n",
       "31  ( 1 ) \" \"          \"*\"        \"*\"   \"*\"  \"*\"  \"*\"  \"*\"  \"*\"  \"*\"  \"*\"  \"*\" \n",
       "32  ( 1 ) \" \"          \"*\"        \"*\"   \"*\"  \"*\"  \"*\"  \"*\"  \"*\"  \"*\"  \"*\"  \"*\" \n",
       "33  ( 1 ) \" \"          \"*\"        \"*\"   \"*\"  \"*\"  \"*\"  \"*\"  \"*\"  \"*\"  \"*\"  \"*\" \n",
       "34  ( 1 ) \" \"          \"*\"        \"*\"   \"*\"  \"*\"  \"*\"  \"*\"  \"*\"  \"*\"  \"*\"  \"*\" \n",
       "35  ( 1 ) \" \"          \"*\"        \"*\"   \"*\"  \"*\"  \"*\"  \"*\"  \"*\"  \"*\"  \"*\"  \"*\" \n",
       "36  ( 1 ) \" \"          \"*\"        \"*\"   \"*\"  \"*\"  \"*\"  \"*\"  \"*\"  \"*\"  \"*\"  \"*\" \n",
       "37  ( 1 ) \" \"          \"*\"        \"*\"   \"*\"  \"*\"  \"*\"  \"*\"  \"*\"  \"*\"  \"*\"  \"*\" \n",
       "38  ( 1 ) \" \"          \"*\"        \"*\"   \"*\"  \"*\"  \"*\"  \"*\"  \"*\"  \"*\"  \"*\"  \"*\" \n",
       "39  ( 1 ) \" \"          \"*\"        \"*\"   \"*\"  \"*\"  \"*\"  \"*\"  \"*\"  \"*\"  \"*\"  \"*\" \n",
       "40  ( 1 ) \" \"          \"*\"        \"*\"   \"*\"  \"*\"  \"*\"  \"*\"  \"*\"  \"*\"  \"*\"  \"*\" \n",
       "41  ( 1 ) \" \"          \"*\"        \"*\"   \"*\"  \"*\"  \"*\"  \"*\"  \"*\"  \"*\"  \"*\"  \"*\" \n",
       "42  ( 1 ) \" \"          \"*\"        \"*\"   \"*\"  \"*\"  \"*\"  \"*\"  \"*\"  \"*\"  \"*\"  \"*\" \n",
       "43  ( 1 ) \" \"          \"*\"        \"*\"   \"*\"  \"*\"  \"*\"  \"*\"  \"*\"  \"*\"  \"*\"  \"*\" \n",
       "44  ( 1 ) \" \"          \"*\"        \"*\"   \"*\"  \"*\"  \"*\"  \"*\"  \"*\"  \"*\"  \"*\"  \"*\" \n",
       "45  ( 1 ) \" \"          \"*\"        \"*\"   \"*\"  \"*\"  \"*\"  \"*\"  \"*\"  \"*\"  \"*\"  \"*\" \n",
       "46  ( 1 ) \"*\"          \"*\"        \"*\"   \"*\"  \"*\"  \"*\"  \"*\"  \"*\"  \"*\"  \"*\"  \"*\" \n",
       "          var9 var101 var111 var121 var131 var141 var151 var161 var171 var181\n",
       "1  ( 1 )  \" \"  \" \"    \" \"    \" \"    \" \"    \" \"    \" \"    \" \"    \" \"    \" \"   \n",
       "2  ( 1 )  \" \"  \" \"    \" \"    \" \"    \" \"    \" \"    \" \"    \" \"    \" \"    \" \"   \n",
       "3  ( 1 )  \" \"  \" \"    \" \"    \" \"    \" \"    \" \"    \" \"    \" \"    \" \"    \" \"   \n",
       "4  ( 1 )  \" \"  \" \"    \" \"    \" \"    \" \"    \" \"    \" \"    \" \"    \" \"    \" \"   \n",
       "5  ( 1 )  \" \"  \" \"    \" \"    \" \"    \" \"    \" \"    \" \"    \" \"    \" \"    \" \"   \n",
       "6  ( 1 )  \" \"  \" \"    \" \"    \" \"    \" \"    \" \"    \" \"    \" \"    \" \"    \" \"   \n",
       "7  ( 1 )  \" \"  \" \"    \" \"    \" \"    \" \"    \" \"    \" \"    \" \"    \" \"    \" \"   \n",
       "8  ( 1 )  \" \"  \" \"    \" \"    \" \"    \" \"    \" \"    \" \"    \" \"    \" \"    \" \"   \n",
       "9  ( 1 )  \" \"  \" \"    \" \"    \" \"    \" \"    \" \"    \" \"    \" \"    \" \"    \" \"   \n",
       "10  ( 1 ) \" \"  \" \"    \" \"    \" \"    \" \"    \" \"    \" \"    \" \"    \" \"    \" \"   \n",
       "11  ( 1 ) \" \"  \" \"    \" \"    \" \"    \"*\"    \" \"    \" \"    \" \"    \" \"    \" \"   \n",
       "12  ( 1 ) \" \"  \" \"    \" \"    \" \"    \"*\"    \" \"    \" \"    \" \"    \" \"    \" \"   \n",
       "13  ( 1 ) \" \"  \" \"    \" \"    \" \"    \"*\"    \" \"    \" \"    \" \"    \" \"    \" \"   \n",
       "14  ( 1 ) \" \"  \"*\"    \" \"    \" \"    \"*\"    \" \"    \" \"    \" \"    \" \"    \" \"   \n",
       "15  ( 1 ) \" \"  \"*\"    \" \"    \" \"    \"*\"    \" \"    \" \"    \" \"    \" \"    \" \"   \n",
       "16  ( 1 ) \" \"  \"*\"    \" \"    \" \"    \"*\"    \" \"    \" \"    \" \"    \" \"    \" \"   \n",
       "17  ( 1 ) \" \"  \"*\"    \" \"    \" \"    \"*\"    \" \"    \" \"    \" \"    \" \"    \" \"   \n",
       "18  ( 1 ) \" \"  \"*\"    \" \"    \" \"    \"*\"    \" \"    \" \"    \" \"    \" \"    \" \"   \n",
       "19  ( 1 ) \" \"  \"*\"    \" \"    \" \"    \"*\"    \" \"    \" \"    \" \"    \" \"    \" \"   \n",
       "20  ( 1 ) \" \"  \"*\"    \" \"    \" \"    \"*\"    \" \"    \" \"    \" \"    \" \"    \" \"   \n",
       "21  ( 1 ) \" \"  \"*\"    \" \"    \" \"    \"*\"    \" \"    \" \"    \" \"    \" \"    \" \"   \n",
       "22  ( 1 ) \" \"  \"*\"    \" \"    \" \"    \"*\"    \" \"    \" \"    \"*\"    \" \"    \" \"   \n",
       "23  ( 1 ) \" \"  \"*\"    \" \"    \" \"    \"*\"    \" \"    \" \"    \"*\"    \" \"    \" \"   \n",
       "24  ( 1 ) \" \"  \"*\"    \" \"    \"*\"    \"*\"    \" \"    \" \"    \"*\"    \" \"    \" \"   \n",
       "25  ( 1 ) \" \"  \"*\"    \" \"    \"*\"    \"*\"    \" \"    \" \"    \"*\"    \" \"    \" \"   \n",
       "26  ( 1 ) \" \"  \"*\"    \" \"    \"*\"    \"*\"    \" \"    \" \"    \"*\"    \"*\"    \" \"   \n",
       "27  ( 1 ) \" \"  \"*\"    \" \"    \"*\"    \"*\"    \" \"    \" \"    \"*\"    \"*\"    \" \"   \n",
       "28  ( 1 ) \" \"  \"*\"    \" \"    \"*\"    \"*\"    \" \"    \" \"    \"*\"    \"*\"    \" \"   \n",
       "29  ( 1 ) \" \"  \"*\"    \" \"    \"*\"    \"*\"    \" \"    \" \"    \"*\"    \"*\"    \" \"   \n",
       "30  ( 1 ) \" \"  \"*\"    \" \"    \"*\"    \"*\"    \"*\"    \" \"    \"*\"    \"*\"    \" \"   \n",
       "31  ( 1 ) \" \"  \"*\"    \" \"    \"*\"    \"*\"    \"*\"    \" \"    \"*\"    \"*\"    \" \"   \n",
       "32  ( 1 ) \" \"  \"*\"    \" \"    \"*\"    \"*\"    \"*\"    \"*\"    \"*\"    \"*\"    \" \"   \n",
       "33  ( 1 ) \" \"  \"*\"    \" \"    \"*\"    \"*\"    \"*\"    \"*\"    \"*\"    \"*\"    \"*\"   \n",
       "34  ( 1 ) \" \"  \"*\"    \"*\"    \"*\"    \"*\"    \"*\"    \"*\"    \"*\"    \"*\"    \"*\"   \n",
       "35  ( 1 ) \" \"  \"*\"    \"*\"    \"*\"    \"*\"    \"*\"    \"*\"    \"*\"    \"*\"    \"*\"   \n",
       "36  ( 1 ) \"*\"  \"*\"    \"*\"    \"*\"    \"*\"    \"*\"    \"*\"    \"*\"    \"*\"    \"*\"   \n",
       "37  ( 1 ) \"*\"  \"*\"    \"*\"    \"*\"    \"*\"    \"*\"    \"*\"    \"*\"    \"*\"    \"*\"   \n",
       "38  ( 1 ) \"*\"  \"*\"    \"*\"    \"*\"    \"*\"    \"*\"    \"*\"    \"*\"    \"*\"    \"*\"   \n",
       "39  ( 1 ) \"*\"  \"*\"    \"*\"    \"*\"    \"*\"    \"*\"    \"*\"    \"*\"    \"*\"    \"*\"   \n",
       "40  ( 1 ) \"*\"  \"*\"    \"*\"    \"*\"    \"*\"    \"*\"    \"*\"    \"*\"    \"*\"    \"*\"   \n",
       "41  ( 1 ) \"*\"  \"*\"    \"*\"    \"*\"    \"*\"    \"*\"    \"*\"    \"*\"    \"*\"    \"*\"   \n",
       "42  ( 1 ) \"*\"  \"*\"    \"*\"    \"*\"    \"*\"    \"*\"    \"*\"    \"*\"    \"*\"    \"*\"   \n",
       "43  ( 1 ) \"*\"  \"*\"    \"*\"    \"*\"    \"*\"    \"*\"    \"*\"    \"*\"    \"*\"    \"*\"   \n",
       "44  ( 1 ) \"*\"  \"*\"    \"*\"    \"*\"    \"*\"    \"*\"    \"*\"    \"*\"    \"*\"    \"*\"   \n",
       "45  ( 1 ) \"*\"  \"*\"    \"*\"    \"*\"    \"*\"    \"*\"    \"*\"    \"*\"    \"*\"    \"*\"   \n",
       "46  ( 1 ) \"*\"  \"*\"    \"*\"    \"*\"    \"*\"    \"*\"    \"*\"    \"*\"    \"*\"    \"*\"   \n",
       "          var191 var201 var211 var221 var231 var241 var251 var261 var271 var281\n",
       "1  ( 1 )  \" \"    \" \"    \" \"    \" \"    \" \"    \" \"    \" \"    \" \"    \" \"    \" \"   \n",
       "2  ( 1 )  \" \"    \" \"    \" \"    \" \"    \" \"    \" \"    \" \"    \" \"    \" \"    \" \"   \n",
       "3  ( 1 )  \" \"    \" \"    \" \"    \" \"    \" \"    \" \"    \" \"    \" \"    \" \"    \" \"   \n",
       "4  ( 1 )  \" \"    \" \"    \" \"    \" \"    \" \"    \" \"    \" \"    \" \"    \" \"    \" \"   \n",
       "5  ( 1 )  \" \"    \" \"    \" \"    \" \"    \" \"    \" \"    \" \"    \" \"    \" \"    \" \"   \n",
       "6  ( 1 )  \" \"    \" \"    \" \"    \" \"    \" \"    \" \"    \" \"    \" \"    \" \"    \" \"   \n",
       "7  ( 1 )  \" \"    \" \"    \" \"    \" \"    \" \"    \" \"    \" \"    \"*\"    \" \"    \" \"   \n",
       "8  ( 1 )  \" \"    \" \"    \" \"    \" \"    \" \"    \" \"    \" \"    \"*\"    \" \"    \" \"   \n",
       "9  ( 1 )  \" \"    \" \"    \" \"    \" \"    \" \"    \" \"    \" \"    \"*\"    \" \"    \" \"   \n",
       "10  ( 1 ) \" \"    \" \"    \" \"    \" \"    \"*\"    \" \"    \" \"    \"*\"    \" \"    \" \"   \n",
       "11  ( 1 ) \" \"    \" \"    \" \"    \" \"    \"*\"    \" \"    \" \"    \"*\"    \" \"    \" \"   \n",
       "12  ( 1 ) \" \"    \" \"    \" \"    \" \"    \"*\"    \" \"    \" \"    \"*\"    \" \"    \" \"   \n",
       "13  ( 1 ) \" \"    \" \"    \" \"    \" \"    \"*\"    \" \"    \" \"    \"*\"    \" \"    \" \"   \n",
       "14  ( 1 ) \" \"    \" \"    \" \"    \" \"    \"*\"    \" \"    \" \"    \"*\"    \" \"    \" \"   \n",
       "15  ( 1 ) \" \"    \"*\"    \" \"    \" \"    \"*\"    \" \"    \" \"    \"*\"    \" \"    \" \"   \n",
       "16  ( 1 ) \" \"    \"*\"    \" \"    \"*\"    \"*\"    \" \"    \" \"    \"*\"    \" \"    \" \"   \n",
       "17  ( 1 ) \" \"    \"*\"    \" \"    \"*\"    \"*\"    \" \"    \" \"    \"*\"    \" \"    \" \"   \n",
       "18  ( 1 ) \" \"    \"*\"    \" \"    \"*\"    \"*\"    \" \"    \" \"    \"*\"    \" \"    \" \"   \n",
       "19  ( 1 ) \" \"    \"*\"    \" \"    \"*\"    \"*\"    \" \"    \" \"    \"*\"    \" \"    \" \"   \n",
       "20  ( 1 ) \" \"    \"*\"    \" \"    \"*\"    \"*\"    \" \"    \" \"    \"*\"    \" \"    \"*\"   \n",
       "21  ( 1 ) \" \"    \"*\"    \" \"    \"*\"    \"*\"    \" \"    \" \"    \"*\"    \" \"    \"*\"   \n",
       "22  ( 1 ) \" \"    \"*\"    \" \"    \"*\"    \"*\"    \" \"    \" \"    \"*\"    \" \"    \"*\"   \n",
       "23  ( 1 ) \" \"    \"*\"    \" \"    \"*\"    \"*\"    \" \"    \" \"    \"*\"    \" \"    \"*\"   \n",
       "24  ( 1 ) \" \"    \"*\"    \" \"    \"*\"    \"*\"    \" \"    \" \"    \"*\"    \" \"    \"*\"   \n",
       "25  ( 1 ) \" \"    \"*\"    \" \"    \"*\"    \"*\"    \" \"    \" \"    \"*\"    \" \"    \"*\"   \n",
       "26  ( 1 ) \" \"    \"*\"    \" \"    \"*\"    \"*\"    \" \"    \" \"    \"*\"    \" \"    \"*\"   \n",
       "27  ( 1 ) \" \"    \"*\"    \" \"    \"*\"    \"*\"    \"*\"    \" \"    \"*\"    \" \"    \"*\"   \n",
       "28  ( 1 ) \" \"    \"*\"    \" \"    \"*\"    \"*\"    \"*\"    \" \"    \"*\"    \"*\"    \"*\"   \n",
       "29  ( 1 ) \" \"    \"*\"    \" \"    \"*\"    \"*\"    \"*\"    \"*\"    \"*\"    \"*\"    \"*\"   \n",
       "30  ( 1 ) \" \"    \"*\"    \" \"    \"*\"    \"*\"    \"*\"    \"*\"    \"*\"    \"*\"    \"*\"   \n",
       "31  ( 1 ) \" \"    \"*\"    \" \"    \"*\"    \"*\"    \"*\"    \"*\"    \"*\"    \"*\"    \"*\"   \n",
       "32  ( 1 ) \" \"    \"*\"    \" \"    \"*\"    \"*\"    \"*\"    \"*\"    \"*\"    \"*\"    \"*\"   \n",
       "33  ( 1 ) \" \"    \"*\"    \" \"    \"*\"    \"*\"    \"*\"    \"*\"    \"*\"    \"*\"    \"*\"   \n",
       "34  ( 1 ) \" \"    \"*\"    \" \"    \"*\"    \"*\"    \"*\"    \"*\"    \"*\"    \"*\"    \"*\"   \n",
       "35  ( 1 ) \" \"    \"*\"    \" \"    \"*\"    \"*\"    \"*\"    \"*\"    \"*\"    \"*\"    \"*\"   \n",
       "36  ( 1 ) \" \"    \"*\"    \" \"    \"*\"    \"*\"    \"*\"    \"*\"    \"*\"    \"*\"    \"*\"   \n",
       "37  ( 1 ) \" \"    \"*\"    \"*\"    \"*\"    \"*\"    \"*\"    \"*\"    \"*\"    \"*\"    \"*\"   \n",
       "38  ( 1 ) \"*\"    \"*\"    \"*\"    \"*\"    \"*\"    \"*\"    \"*\"    \"*\"    \"*\"    \"*\"   \n",
       "39  ( 1 ) \"*\"    \"*\"    \"*\"    \"*\"    \"*\"    \"*\"    \"*\"    \"*\"    \"*\"    \"*\"   \n",
       "40  ( 1 ) \"*\"    \"*\"    \"*\"    \"*\"    \"*\"    \"*\"    \"*\"    \"*\"    \"*\"    \"*\"   \n",
       "41  ( 1 ) \"*\"    \"*\"    \"*\"    \"*\"    \"*\"    \"*\"    \"*\"    \"*\"    \"*\"    \"*\"   \n",
       "42  ( 1 ) \"*\"    \"*\"    \"*\"    \"*\"    \"*\"    \"*\"    \"*\"    \"*\"    \"*\"    \"*\"   \n",
       "43  ( 1 ) \"*\"    \"*\"    \"*\"    \"*\"    \"*\"    \"*\"    \"*\"    \"*\"    \"*\"    \"*\"   \n",
       "44  ( 1 ) \"*\"    \"*\"    \"*\"    \"*\"    \"*\"    \"*\"    \"*\"    \"*\"    \"*\"    \"*\"   \n",
       "45  ( 1 ) \"*\"    \"*\"    \"*\"    \"*\"    \"*\"    \"*\"    \"*\"    \"*\"    \"*\"    \"*\"   \n",
       "46  ( 1 ) \"*\"    \"*\"    \"*\"    \"*\"    \"*\"    \"*\"    \"*\"    \"*\"    \"*\"    \"*\"   \n",
       "          var291 var301 var311 var321 var331 var341 var351 var361 var371 var38\n",
       "1  ( 1 )  \" \"    \" \"    \" \"    \" \"    \" \"    \" \"    \" \"    \" \"    \" \"    \"*\"  \n",
       "2  ( 1 )  \" \"    \" \"    \" \"    \" \"    \" \"    \" \"    \" \"    \" \"    \" \"    \"*\"  \n",
       "3  ( 1 )  \" \"    \" \"    \" \"    \" \"    \" \"    \" \"    \" \"    \" \"    \" \"    \"*\"  \n",
       "4  ( 1 )  \" \"    \" \"    \" \"    \" \"    \" \"    \" \"    \" \"    \" \"    \" \"    \"*\"  \n",
       "5  ( 1 )  \" \"    \" \"    \" \"    \" \"    \" \"    \" \"    \" \"    \" \"    \" \"    \"*\"  \n",
       "6  ( 1 )  \" \"    \" \"    \" \"    \" \"    \" \"    \" \"    \" \"    \" \"    \" \"    \"*\"  \n",
       "7  ( 1 )  \" \"    \" \"    \" \"    \" \"    \" \"    \" \"    \" \"    \" \"    \" \"    \"*\"  \n",
       "8  ( 1 )  \" \"    \" \"    \" \"    \" \"    \" \"    \" \"    \"*\"    \" \"    \" \"    \"*\"  \n",
       "9  ( 1 )  \" \"    \" \"    \" \"    \" \"    \" \"    \" \"    \"*\"    \" \"    \" \"    \"*\"  \n",
       "10  ( 1 ) \" \"    \" \"    \" \"    \" \"    \" \"    \" \"    \"*\"    \" \"    \" \"    \"*\"  \n",
       "11  ( 1 ) \" \"    \" \"    \" \"    \" \"    \" \"    \" \"    \"*\"    \" \"    \" \"    \"*\"  \n",
       "12  ( 1 ) \" \"    \" \"    \" \"    \" \"    \" \"    \" \"    \"*\"    \" \"    \" \"    \"*\"  \n",
       "13  ( 1 ) \" \"    \" \"    \" \"    \" \"    \" \"    \" \"    \"*\"    \" \"    \" \"    \"*\"  \n",
       "14  ( 1 ) \" \"    \" \"    \" \"    \" \"    \" \"    \" \"    \"*\"    \" \"    \" \"    \"*\"  \n",
       "15  ( 1 ) \" \"    \" \"    \" \"    \" \"    \" \"    \" \"    \"*\"    \" \"    \" \"    \"*\"  \n",
       "16  ( 1 ) \" \"    \" \"    \" \"    \" \"    \" \"    \" \"    \"*\"    \" \"    \" \"    \"*\"  \n",
       "17  ( 1 ) \" \"    \" \"    \" \"    \" \"    \"*\"    \" \"    \"*\"    \" \"    \" \"    \"*\"  \n",
       "18  ( 1 ) \" \"    \"*\"    \" \"    \" \"    \"*\"    \" \"    \"*\"    \" \"    \" \"    \"*\"  \n",
       "19  ( 1 ) \" \"    \"*\"    \" \"    \" \"    \"*\"    \" \"    \"*\"    \" \"    \" \"    \"*\"  \n",
       "20  ( 1 ) \" \"    \"*\"    \" \"    \" \"    \"*\"    \" \"    \"*\"    \" \"    \" \"    \"*\"  \n",
       "21  ( 1 ) \" \"    \"*\"    \" \"    \" \"    \"*\"    \" \"    \"*\"    \" \"    \" \"    \"*\"  \n",
       "22  ( 1 ) \" \"    \"*\"    \" \"    \" \"    \"*\"    \" \"    \"*\"    \" \"    \" \"    \"*\"  \n",
       "23  ( 1 ) \" \"    \"*\"    \" \"    \" \"    \"*\"    \" \"    \"*\"    \" \"    \" \"    \"*\"  \n",
       "24  ( 1 ) \" \"    \"*\"    \" \"    \" \"    \"*\"    \" \"    \"*\"    \" \"    \" \"    \"*\"  \n",
       "25  ( 1 ) \" \"    \"*\"    \" \"    \" \"    \"*\"    \"*\"    \"*\"    \" \"    \" \"    \"*\"  \n",
       "26  ( 1 ) \" \"    \"*\"    \" \"    \" \"    \"*\"    \"*\"    \"*\"    \" \"    \" \"    \"*\"  \n",
       "27  ( 1 ) \" \"    \"*\"    \" \"    \" \"    \"*\"    \"*\"    \"*\"    \" \"    \" \"    \"*\"  \n",
       "28  ( 1 ) \" \"    \"*\"    \" \"    \" \"    \"*\"    \"*\"    \"*\"    \" \"    \" \"    \"*\"  \n",
       "29  ( 1 ) \" \"    \"*\"    \" \"    \" \"    \"*\"    \"*\"    \"*\"    \" \"    \" \"    \"*\"  \n",
       "30  ( 1 ) \" \"    \"*\"    \" \"    \" \"    \"*\"    \"*\"    \"*\"    \" \"    \" \"    \"*\"  \n",
       "31  ( 1 ) \" \"    \"*\"    \" \"    \" \"    \"*\"    \"*\"    \"*\"    \" \"    \" \"    \"*\"  \n",
       "32  ( 1 ) \" \"    \"*\"    \" \"    \" \"    \"*\"    \"*\"    \"*\"    \" \"    \" \"    \"*\"  \n",
       "33  ( 1 ) \" \"    \"*\"    \" \"    \" \"    \"*\"    \"*\"    \"*\"    \" \"    \" \"    \"*\"  \n",
       "34  ( 1 ) \" \"    \"*\"    \" \"    \" \"    \"*\"    \"*\"    \"*\"    \" \"    \" \"    \"*\"  \n",
       "35  ( 1 ) \" \"    \"*\"    \" \"    \" \"    \"*\"    \"*\"    \"*\"    \" \"    \" \"    \"*\"  \n",
       "36  ( 1 ) \" \"    \"*\"    \" \"    \" \"    \"*\"    \"*\"    \"*\"    \" \"    \" \"    \"*\"  \n",
       "37  ( 1 ) \" \"    \"*\"    \" \"    \" \"    \"*\"    \"*\"    \"*\"    \" \"    \" \"    \"*\"  \n",
       "38  ( 1 ) \" \"    \"*\"    \" \"    \" \"    \"*\"    \"*\"    \"*\"    \" \"    \" \"    \"*\"  \n",
       "39  ( 1 ) \" \"    \"*\"    \"*\"    \" \"    \"*\"    \"*\"    \"*\"    \" \"    \" \"    \"*\"  \n",
       "40  ( 1 ) \" \"    \"*\"    \"*\"    \"*\"    \"*\"    \"*\"    \"*\"    \" \"    \" \"    \"*\"  \n",
       "41  ( 1 ) \" \"    \"*\"    \"*\"    \"*\"    \"*\"    \"*\"    \"*\"    \"*\"    \" \"    \"*\"  \n",
       "42  ( 1 ) \" \"    \"*\"    \"*\"    \"*\"    \"*\"    \"*\"    \"*\"    \"*\"    \" \"    \"*\"  \n",
       "43  ( 1 ) \" \"    \"*\"    \"*\"    \"*\"    \"*\"    \"*\"    \"*\"    \"*\"    \"*\"    \"*\"  \n",
       "44  ( 1 ) \" \"    \"*\"    \"*\"    \"*\"    \"*\"    \"*\"    \"*\"    \"*\"    \"*\"    \"*\"  \n",
       "45  ( 1 ) \"*\"    \"*\"    \"*\"    \"*\"    \"*\"    \"*\"    \"*\"    \"*\"    \"*\"    \"*\"  \n",
       "46  ( 1 ) \"*\"    \"*\"    \"*\"    \"*\"    \"*\"    \"*\"    \"*\"    \"*\"    \"*\"    \"*\"  "
      ]
     },
     "metadata": {},
     "output_type": "display_data"
    }
   ],
   "source": [
    "summary(mod_stepf)"
   ]
  },
  {
   "attachments": {
    "image.png": {
     "image/png": "[encoded data removed]"
    }
   },
   "cell_type": "markdown",
   "metadata": {},
   "source": [
    "Aplicando nos valores preditos pelos coeficientes escolhidos a equação da regressão logistica\n",
    "\n",
    "![image.png](attachment:image.png)"
   ]
  },
  {
   "cell_type": "code",
   "execution_count": 30,
   "metadata": {
    "ExecuteTime": {
     "end_time": "2019-12-15T08:30:48.078394Z",
     "start_time": "2019-12-15T08:30:47.173Z"
    },
    "scrolled": true
   },
   "outputs": [
    {
     "data": {
      "text/html": [
       "<dl class=dl-horizontal>\n",
       "\t<dt>(Intercept)</dt>\n",
       "\t\t<dd>1.45316847338829</dd>\n",
       "\t<dt>timestamp</dt>\n",
       "\t\t<dd>5.28086204295145e-05</dd>\n",
       "\t<dt>id_category1</dt>\n",
       "\t\t<dd>-0.000614753217176269</dd>\n",
       "\t<dt>id_category2</dt>\n",
       "\t\t<dd>0.00494434052969261</dd>\n",
       "\t<dt>id_category3</dt>\n",
       "\t\t<dd>-0.00636895795346356</dd>\n",
       "\t<dt>id_category4</dt>\n",
       "\t\t<dd>-0.00353934265314101</dd>\n",
       "\t<dt>id_category5</dt>\n",
       "\t\t<dd>-0.0024693418999703</dd>\n",
       "\t<dt>start_date</dt>\n",
       "\t\t<dd>1.89718782552929e-05</dd>\n",
       "\t<dt>var11</dt>\n",
       "\t\t<dd>-0.950202564395641</dd>\n",
       "\t<dt>var0</dt>\n",
       "\t\t<dd>3.6715649320228e-07</dd>\n",
       "\t<dt>var2</dt>\n",
       "\t\t<dd>0.482330944227326</dd>\n",
       "\t<dt>var3</dt>\n",
       "\t\t<dd>0.000745532373171814</dd>\n",
       "\t<dt>var4</dt>\n",
       "\t\t<dd>-0.000685338299183365</dd>\n",
       "\t<dt>var5</dt>\n",
       "\t\t<dd>-0.00200289237885857</dd>\n",
       "\t<dt>var6</dt>\n",
       "\t\t<dd>-0.0247396482575401</dd>\n",
       "\t<dt>var7</dt>\n",
       "\t\t<dd>-0.00172721287231934</dd>\n",
       "\t<dt>var8</dt>\n",
       "\t\t<dd>-0.00522219156803719</dd>\n",
       "\t<dt>var9</dt>\n",
       "\t\t<dd>-0.00083011262762411</dd>\n",
       "\t<dt>var101</dt>\n",
       "\t\t<dd>0.0231743862776105</dd>\n",
       "\t<dt>var111</dt>\n",
       "\t\t<dd>-0.00780505222081725</dd>\n",
       "\t<dt>var121</dt>\n",
       "\t\t<dd>-0.0133775973531451</dd>\n",
       "\t<dt>var131</dt>\n",
       "\t\t<dd>0.0289623984804003</dd>\n",
       "\t<dt>var141</dt>\n",
       "\t\t<dd>-0.00788490241109851</dd>\n",
       "\t<dt>var151</dt>\n",
       "\t\t<dd>-0.00773535413327992</dd>\n",
       "\t<dt>var161</dt>\n",
       "\t\t<dd>0.0217983302634445</dd>\n",
       "\t<dt>var171</dt>\n",
       "\t\t<dd>-0.0123538231417802</dd>\n",
       "\t<dt>var181</dt>\n",
       "\t\t<dd>0.00764969545024915</dd>\n",
       "\t<dt>var191</dt>\n",
       "\t\t<dd>-0.00380100555346565</dd>\n",
       "\t<dt>var201</dt>\n",
       "\t\t<dd>-0.0439438072480015</dd>\n",
       "\t<dt>var211</dt>\n",
       "\t\t<dd>0.0131259150401832</dd>\n",
       "\t<dt>var221</dt>\n",
       "\t\t<dd>0.0299691306673279</dd>\n",
       "\t<dt>var231</dt>\n",
       "\t\t<dd>-0.0409851064617257</dd>\n",
       "\t<dt>var241</dt>\n",
       "\t\t<dd>0.0143879672933538</dd>\n",
       "\t<dt>var251</dt>\n",
       "\t\t<dd>-0.00801645121898819</dd>\n",
       "\t<dt>var261</dt>\n",
       "\t\t<dd>-0.0446391820716452</dd>\n",
       "\t<dt>var271</dt>\n",
       "\t\t<dd>0.0132769510287856</dd>\n",
       "\t<dt>var281</dt>\n",
       "\t\t<dd>-0.034985473634995</dd>\n",
       "\t<dt>var291</dt>\n",
       "\t\t<dd>0.000651944639934422</dd>\n",
       "\t<dt>var301</dt>\n",
       "\t\t<dd>0.0258174041618142</dd>\n",
       "\t<dt>var311</dt>\n",
       "\t\t<dd>-0.00368492900140644</dd>\n",
       "\t<dt>var321</dt>\n",
       "\t\t<dd>-0.0030664195436515</dd>\n",
       "\t<dt>var331</dt>\n",
       "\t\t<dd>-0.0229466306442591</dd>\n",
       "\t<dt>var341</dt>\n",
       "\t\t<dd>0.0216331757372212</dd>\n",
       "\t<dt>var351</dt>\n",
       "\t\t<dd>0.0234207440556076</dd>\n",
       "\t<dt>var361</dt>\n",
       "\t\t<dd>0.00273843887232642</dd>\n",
       "\t<dt>var371</dt>\n",
       "\t\t<dd>-0.00115151563682795</dd>\n",
       "\t<dt>var38</dt>\n",
       "\t\t<dd>0.00349183901291057</dd>\n",
       "</dl>\n"
      ],
      "text/latex": [
       "\\begin{description*}\n",
       "\\item[(Intercept)] 1.45316847338829\n",
       "\\item[timestamp] 5.28086204295145e-05\n",
       "\\item[id\\textbackslash{}\\_category1] -0.000614753217176269\n",
       "\\item[id\\textbackslash{}\\_category2] 0.00494434052969261\n",
       "\\item[id\\textbackslash{}\\_category3] -0.00636895795346356\n",
       "\\item[id\\textbackslash{}\\_category4] -0.00353934265314101\n",
       "\\item[id\\textbackslash{}\\_category5] -0.0024693418999703\n",
       "\\item[start\\textbackslash{}\\_date] 1.89718782552929e-05\n",
       "\\item[var11] -0.950202564395641\n",
       "\\item[var0] 3.6715649320228e-07\n",
       "\\item[var2] 0.482330944227326\n",
       "\\item[var3] 0.000745532373171814\n",
       "\\item[var4] -0.000685338299183365\n",
       "\\item[var5] -0.00200289237885857\n",
       "\\item[var6] -0.0247396482575401\n",
       "\\item[var7] -0.00172721287231934\n",
       "\\item[var8] -0.00522219156803719\n",
       "\\item[var9] -0.00083011262762411\n",
       "\\item[var101] 0.0231743862776105\n",
       "\\item[var111] -0.00780505222081725\n",
       "\\item[var121] -0.0133775973531451\n",
       "\\item[var131] 0.0289623984804003\n",
       "\\item[var141] -0.00788490241109851\n",
       "\\item[var151] -0.00773535413327992\n",
       "\\item[var161] 0.0217983302634445\n",
       "\\item[var171] -0.0123538231417802\n",
       "\\item[var181] 0.00764969545024915\n",
       "\\item[var191] -0.00380100555346565\n",
       "\\item[var201] -0.0439438072480015\n",
       "\\item[var211] 0.0131259150401832\n",
       "\\item[var221] 0.0299691306673279\n",
       "\\item[var231] -0.0409851064617257\n",
       "\\item[var241] 0.0143879672933538\n",
       "\\item[var251] -0.00801645121898819\n",
       "\\item[var261] -0.0446391820716452\n",
       "\\item[var271] 0.0132769510287856\n",
       "\\item[var281] -0.034985473634995\n",
       "\\item[var291] 0.000651944639934422\n",
       "\\item[var301] 0.0258174041618142\n",
       "\\item[var311] -0.00368492900140644\n",
       "\\item[var321] -0.0030664195436515\n",
       "\\item[var331] -0.0229466306442591\n",
       "\\item[var341] 0.0216331757372212\n",
       "\\item[var351] 0.0234207440556076\n",
       "\\item[var361] 0.00273843887232642\n",
       "\\item[var371] -0.00115151563682795\n",
       "\\item[var38] 0.00349183901291057\n",
       "\\end{description*}\n"
      ],
      "text/markdown": [
       "(Intercept)\n",
       ":   1.45316847338829timestamp\n",
       ":   5.28086204295145e-05id_category1\n",
       ":   -0.000614753217176269id_category2\n",
       ":   0.00494434052969261id_category3\n",
       ":   -0.00636895795346356id_category4\n",
       ":   -0.00353934265314101id_category5\n",
       ":   -0.0024693418999703start_date\n",
       ":   1.89718782552929e-05var11\n",
       ":   -0.950202564395641var0\n",
       ":   3.6715649320228e-07var2\n",
       ":   0.482330944227326var3\n",
       ":   0.000745532373171814var4\n",
       ":   -0.000685338299183365var5\n",
       ":   -0.00200289237885857var6\n",
       ":   -0.0247396482575401var7\n",
       ":   -0.00172721287231934var8\n",
       ":   -0.00522219156803719var9\n",
       ":   -0.00083011262762411var101\n",
       ":   0.0231743862776105var111\n",
       ":   -0.00780505222081725var121\n",
       ":   -0.0133775973531451var131\n",
       ":   0.0289623984804003var141\n",
       ":   -0.00788490241109851var151\n",
       ":   -0.00773535413327992var161\n",
       ":   0.0217983302634445var171\n",
       ":   -0.0123538231417802var181\n",
       ":   0.00764969545024915var191\n",
       ":   -0.00380100555346565var201\n",
       ":   -0.0439438072480015var211\n",
       ":   0.0131259150401832var221\n",
       ":   0.0299691306673279var231\n",
       ":   -0.0409851064617257var241\n",
       ":   0.0143879672933538var251\n",
       ":   -0.00801645121898819var261\n",
       ":   -0.0446391820716452var271\n",
       ":   0.0132769510287856var281\n",
       ":   -0.034985473634995var291\n",
       ":   0.000651944639934422var301\n",
       ":   0.0258174041618142var311\n",
       ":   -0.00368492900140644var321\n",
       ":   -0.0030664195436515var331\n",
       ":   -0.0229466306442591var341\n",
       ":   0.0216331757372212var351\n",
       ":   0.0234207440556076var361\n",
       ":   0.00273843887232642var371\n",
       ":   -0.00115151563682795var38\n",
       ":   0.00349183901291057\n",
       "\n"
      ],
      "text/plain": [
       "  (Intercept)     timestamp  id_category1  id_category2  id_category3 \n",
       " 1.453168e+00  5.280862e-05 -6.147532e-04  4.944341e-03 -6.368958e-03 \n",
       " id_category4  id_category5    start_date         var11          var0 \n",
       "-3.539343e-03 -2.469342e-03  1.897188e-05 -9.502026e-01  3.671565e-07 \n",
       "         var2          var3          var4          var5          var6 \n",
       " 4.823309e-01  7.455324e-04 -6.853383e-04 -2.002892e-03 -2.473965e-02 \n",
       "         var7          var8          var9        var101        var111 \n",
       "-1.727213e-03 -5.222192e-03 -8.301126e-04  2.317439e-02 -7.805052e-03 \n",
       "       var121        var131        var141        var151        var161 \n",
       "-1.337760e-02  2.896240e-02 -7.884902e-03 -7.735354e-03  2.179833e-02 \n",
       "       var171        var181        var191        var201        var211 \n",
       "-1.235382e-02  7.649695e-03 -3.801006e-03 -4.394381e-02  1.312592e-02 \n",
       "       var221        var231        var241        var251        var261 \n",
       " 2.996913e-02 -4.098511e-02  1.438797e-02 -8.016451e-03 -4.463918e-02 \n",
       "       var271        var281        var291        var301        var311 \n",
       " 1.327695e-02 -3.498547e-02  6.519446e-04  2.581740e-02 -3.684929e-03 \n",
       "       var321        var331        var341        var351        var361 \n",
       "-3.066420e-03 -2.294663e-02  2.163318e-02  2.342074e-02  2.738439e-03 \n",
       "       var371         var38 \n",
       "-1.151516e-03  3.491839e-03 "
      ]
     },
     "metadata": {},
     "output_type": "display_data"
    }
   ],
   "source": [
    "resumo_stepf <- summary(mod_stepf)\n",
    "coef(mod_stepf , id = which.min(resumo_stepf$rss))\n",
    "\n",
    "# Fazendo predict do teste com  coeficientes de menor valor de rss obtido no resumo_stepf\n",
    "pred <- predict.regsubsets(mod_stepf, newdata = teste, id = which.min(resumo_stepf$rss))\n",
    "\n",
    "# Transformando resultado em probabilidades\n",
    "pred_stepf <- exp(pred) / (1 + exp(pred))"
   ]
  },
  {
   "cell_type": "code",
   "execution_count": 31,
   "metadata": {
    "ExecuteTime": {
     "end_time": "2019-12-15T08:30:48.715754Z",
     "start_time": "2019-12-15T08:30:48.278Z"
    },
    "scrolled": false
   },
   "outputs": [
    {
     "name": "stdout",
     "output_type": "stream",
     "text": [
      "    corte      erro \n",
      "0.8200000 0.1895008 \n"
     ]
    }
   ],
   "source": [
    "temp <- escolhe_corte(pred_stepf, teste$answer)\n",
    "print(temp)\n",
    "resultados[nrow(resultados)+1, ] = c(\"Logistico stepf 200\", temp[2], temp[1])\n"
   ]
  },
  {
   "cell_type": "code",
   "execution_count": 32,
   "metadata": {
    "ExecuteTime": {
     "end_time": "2019-12-15T08:30:51.146682Z",
     "start_time": "2019-12-15T08:30:51.117Z"
    }
   },
   "outputs": [
    {
     "name": "stdout",
     "output_type": "stream",
     "text": [
      "               metodo              erro corte\n",
      "1           Logistico 0.186092507098424  0.54\n",
      "2 Logistico stepf 200 0.189500834471249  0.82\n"
     ]
    }
   ],
   "source": [
    "# Resultados\n",
    "print(resultados)"
   ]
  },
  {
   "cell_type": "markdown",
   "metadata": {},
   "source": [
    "#### Utilizando backward selection\n",
    "\n",
    "Este metodo e extremamente parecido com o stepwise, com a diferenca de que comeca utilizando todas as variaveis e em cada iteracao, escolhe-se uma variavel para retirar que resulte no melhor desempenho de modelo (menor RSS, no caso aqui apresentado)."
   ]
  },
  {
   "cell_type": "code",
   "execution_count": 33,
   "metadata": {
    "ExecuteTime": {
     "end_time": "2019-12-15T08:30:59.323378Z",
     "start_time": "2019-12-15T08:30:57.261Z"
    }
   },
   "outputs": [],
   "source": [
    "# colocando como maximo numero de combinacoes 200\n",
    "mod_stepb <- regsubsets(answer ~ ., data = treino, nvmax = 200, method = \"backward\")"
   ]
  },
  {
   "cell_type": "code",
   "execution_count": 34,
   "metadata": {
    "ExecuteTime": {
     "end_time": "2019-12-15T08:30:59.360082Z",
     "start_time": "2019-12-15T08:30:57.868Z"
    }
   },
   "outputs": [
    {
     "data": {
      "text/plain": [
       "Subset selection object\n",
       "Call: regsubsets.formula(answer ~ ., data = treino, nvmax = 200, method = \"backward\")\n",
       "46 Variables  (and intercept)\n",
       "             Forced in Forced out\n",
       "timestamp        FALSE      FALSE\n",
       "id_category1     FALSE      FALSE\n",
       "id_category2     FALSE      FALSE\n",
       "id_category3     FALSE      FALSE\n",
       "id_category4     FALSE      FALSE\n",
       "id_category5     FALSE      FALSE\n",
       "start_date       FALSE      FALSE\n",
       "var11            FALSE      FALSE\n",
       "var0             FALSE      FALSE\n",
       "var2             FALSE      FALSE\n",
       "var3             FALSE      FALSE\n",
       "var4             FALSE      FALSE\n",
       "var5             FALSE      FALSE\n",
       "var6             FALSE      FALSE\n",
       "var7             FALSE      FALSE\n",
       "var8             FALSE      FALSE\n",
       "var9             FALSE      FALSE\n",
       "var101           FALSE      FALSE\n",
       "var111           FALSE      FALSE\n",
       "var121           FALSE      FALSE\n",
       "var131           FALSE      FALSE\n",
       "var141           FALSE      FALSE\n",
       "var151           FALSE      FALSE\n",
       "var161           FALSE      FALSE\n",
       "var171           FALSE      FALSE\n",
       "var181           FALSE      FALSE\n",
       "var191           FALSE      FALSE\n",
       "var201           FALSE      FALSE\n",
       "var211           FALSE      FALSE\n",
       "var221           FALSE      FALSE\n",
       "var231           FALSE      FALSE\n",
       "var241           FALSE      FALSE\n",
       "var251           FALSE      FALSE\n",
       "var261           FALSE      FALSE\n",
       "var271           FALSE      FALSE\n",
       "var281           FALSE      FALSE\n",
       "var291           FALSE      FALSE\n",
       "var301           FALSE      FALSE\n",
       "var311           FALSE      FALSE\n",
       "var321           FALSE      FALSE\n",
       "var331           FALSE      FALSE\n",
       "var341           FALSE      FALSE\n",
       "var351           FALSE      FALSE\n",
       "var361           FALSE      FALSE\n",
       "var371           FALSE      FALSE\n",
       "var38            FALSE      FALSE\n",
       "1 subsets of each size up to 46\n",
       "Selection Algorithm: backward\n",
       "          timestamp id_category1 id_category2 id_category3 id_category4\n",
       "1  ( 1 )  \" \"       \" \"          \" \"          \" \"          \" \"         \n",
       "2  ( 1 )  \" \"       \" \"          \" \"          \" \"          \" \"         \n",
       "3  ( 1 )  \" \"       \" \"          \" \"          \" \"          \" \"         \n",
       "4  ( 1 )  \" \"       \" \"          \" \"          \" \"          \" \"         \n",
       "5  ( 1 )  \" \"       \" \"          \" \"          \" \"          \" \"         \n",
       "6  ( 1 )  \" \"       \" \"          \" \"          \" \"          \" \"         \n",
       "7  ( 1 )  \" \"       \" \"          \" \"          \" \"          \" \"         \n",
       "8  ( 1 )  \" \"       \" \"          \" \"          \" \"          \" \"         \n",
       "9  ( 1 )  \" \"       \" \"          \" \"          \" \"          \" \"         \n",
       "10  ( 1 ) \" \"       \" \"          \" \"          \" \"          \" \"         \n",
       "11  ( 1 ) \" \"       \" \"          \" \"          \" \"          \" \"         \n",
       "12  ( 1 ) \"*\"       \" \"          \" \"          \" \"          \" \"         \n",
       "13  ( 1 ) \"*\"       \" \"          \" \"          \" \"          \" \"         \n",
       "14  ( 1 ) \"*\"       \" \"          \" \"          \" \"          \" \"         \n",
       "15  ( 1 ) \"*\"       \" \"          \" \"          \" \"          \" \"         \n",
       "16  ( 1 ) \"*\"       \" \"          \" \"          \" \"          \" \"         \n",
       "17  ( 1 ) \"*\"       \" \"          \" \"          \" \"          \" \"         \n",
       "18  ( 1 ) \"*\"       \" \"          \" \"          \" \"          \" \"         \n",
       "19  ( 1 ) \"*\"       \" \"          \" \"          \" \"          \" \"         \n",
       "20  ( 1 ) \"*\"       \" \"          \" \"          \" \"          \" \"         \n",
       "21  ( 1 ) \"*\"       \" \"          \" \"          \" \"          \" \"         \n",
       "22  ( 1 ) \"*\"       \" \"          \" \"          \" \"          \" \"         \n",
       "23  ( 1 ) \"*\"       \" \"          \" \"          \" \"          \" \"         \n",
       "24  ( 1 ) \"*\"       \" \"          \" \"          \" \"          \" \"         \n",
       "25  ( 1 ) \"*\"       \" \"          \" \"          \" \"          \" \"         \n",
       "26  ( 1 ) \"*\"       \" \"          \" \"          \" \"          \" \"         \n",
       "27  ( 1 ) \"*\"       \" \"          \" \"          \" \"          \" \"         \n",
       "28  ( 1 ) \"*\"       \" \"          \" \"          \" \"          \" \"         \n",
       "29  ( 1 ) \"*\"       \" \"          \" \"          \" \"          \" \"         \n",
       "30  ( 1 ) \"*\"       \" \"          \" \"          \" \"          \" \"         \n",
       "31  ( 1 ) \"*\"       \" \"          \" \"          \"*\"          \" \"         \n",
       "32  ( 1 ) \"*\"       \" \"          \" \"          \"*\"          \" \"         \n",
       "33  ( 1 ) \"*\"       \" \"          \" \"          \"*\"          \" \"         \n",
       "34  ( 1 ) \"*\"       \" \"          \" \"          \"*\"          \" \"         \n",
       "35  ( 1 ) \"*\"       \" \"          \"*\"          \"*\"          \" \"         \n",
       "36  ( 1 ) \"*\"       \" \"          \"*\"          \"*\"          \" \"         \n",
       "37  ( 1 ) \"*\"       \" \"          \"*\"          \"*\"          \" \"         \n",
       "38  ( 1 ) \"*\"       \" \"          \"*\"          \"*\"          \" \"         \n",
       "39  ( 1 ) \"*\"       \" \"          \"*\"          \"*\"          \" \"         \n",
       "40  ( 1 ) \"*\"       \" \"          \"*\"          \"*\"          \" \"         \n",
       "41  ( 1 ) \"*\"       \" \"          \"*\"          \"*\"          \" \"         \n",
       "42  ( 1 ) \"*\"       \" \"          \"*\"          \"*\"          \"*\"         \n",
       "43  ( 1 ) \"*\"       \" \"          \"*\"          \"*\"          \"*\"         \n",
       "44  ( 1 ) \"*\"       \"*\"          \"*\"          \"*\"          \"*\"         \n",
       "45  ( 1 ) \"*\"       \"*\"          \"*\"          \"*\"          \"*\"         \n",
       "46  ( 1 ) \"*\"       \"*\"          \"*\"          \"*\"          \"*\"         \n",
       "          id_category5 start_date var11 var0 var2 var3 var4 var5 var6 var7 var8\n",
       "1  ( 1 )  \" \"          \" \"        \" \"   \" \"  \"*\"  \" \"  \" \"  \" \"  \" \"  \" \"  \" \" \n",
       "2  ( 1 )  \" \"          \" \"        \"*\"   \" \"  \"*\"  \" \"  \" \"  \" \"  \" \"  \" \"  \" \" \n",
       "3  ( 1 )  \" \"          \" \"        \"*\"   \" \"  \"*\"  \" \"  \" \"  \" \"  \" \"  \" \"  \" \" \n",
       "4  ( 1 )  \" \"          \" \"        \"*\"   \" \"  \"*\"  \" \"  \" \"  \" \"  \"*\"  \" \"  \" \" \n",
       "5  ( 1 )  \" \"          \" \"        \"*\"   \" \"  \"*\"  \" \"  \" \"  \" \"  \"*\"  \"*\"  \" \" \n",
       "6  ( 1 )  \" \"          \" \"        \"*\"   \" \"  \"*\"  \" \"  \" \"  \" \"  \"*\"  \"*\"  \" \" \n",
       "7  ( 1 )  \" \"          \" \"        \"*\"   \" \"  \"*\"  \" \"  \" \"  \" \"  \"*\"  \"*\"  \"*\" \n",
       "8  ( 1 )  \" \"          \" \"        \"*\"   \" \"  \"*\"  \" \"  \" \"  \" \"  \"*\"  \"*\"  \"*\" \n",
       "9  ( 1 )  \" \"          \" \"        \"*\"   \" \"  \"*\"  \" \"  \" \"  \" \"  \"*\"  \"*\"  \"*\" \n",
       "10  ( 1 ) \" \"          \" \"        \"*\"   \" \"  \"*\"  \" \"  \" \"  \" \"  \"*\"  \"*\"  \"*\" \n",
       "11  ( 1 ) \" \"          \" \"        \"*\"   \" \"  \"*\"  \"*\"  \" \"  \" \"  \"*\"  \"*\"  \"*\" \n",
       "12  ( 1 ) \" \"          \" \"        \"*\"   \" \"  \"*\"  \"*\"  \" \"  \" \"  \"*\"  \"*\"  \"*\" \n",
       "13  ( 1 ) \" \"          \" \"        \"*\"   \" \"  \"*\"  \"*\"  \" \"  \" \"  \"*\"  \"*\"  \"*\" \n",
       "14  ( 1 ) \" \"          \" \"        \"*\"   \" \"  \"*\"  \"*\"  \" \"  \" \"  \"*\"  \"*\"  \"*\" \n",
       "15  ( 1 ) \" \"          \" \"        \"*\"   \" \"  \"*\"  \"*\"  \" \"  \" \"  \"*\"  \"*\"  \"*\" \n",
       "16  ( 1 ) \" \"          \" \"        \"*\"   \" \"  \"*\"  \"*\"  \" \"  \" \"  \"*\"  \"*\"  \"*\" \n",
       "17  ( 1 ) \" \"          \" \"        \"*\"   \" \"  \"*\"  \"*\"  \" \"  \" \"  \"*\"  \"*\"  \"*\" \n",
       "18  ( 1 ) \" \"          \"*\"        \"*\"   \" \"  \"*\"  \"*\"  \" \"  \" \"  \"*\"  \"*\"  \"*\" \n",
       "19  ( 1 ) \" \"          \"*\"        \"*\"   \" \"  \"*\"  \"*\"  \" \"  \" \"  \"*\"  \"*\"  \"*\" \n",
       "20  ( 1 ) \" \"          \"*\"        \"*\"   \" \"  \"*\"  \"*\"  \" \"  \"*\"  \"*\"  \"*\"  \"*\" \n",
       "21  ( 1 ) \" \"          \"*\"        \"*\"   \" \"  \"*\"  \"*\"  \" \"  \"*\"  \"*\"  \"*\"  \"*\" \n",
       "22  ( 1 ) \" \"          \"*\"        \"*\"   \" \"  \"*\"  \"*\"  \"*\"  \"*\"  \"*\"  \"*\"  \"*\" \n",
       "23  ( 1 ) \" \"          \"*\"        \"*\"   \" \"  \"*\"  \"*\"  \"*\"  \"*\"  \"*\"  \"*\"  \"*\" \n",
       "24  ( 1 ) \" \"          \"*\"        \"*\"   \" \"  \"*\"  \"*\"  \"*\"  \"*\"  \"*\"  \"*\"  \"*\" \n",
       "25  ( 1 ) \" \"          \"*\"        \"*\"   \" \"  \"*\"  \"*\"  \"*\"  \"*\"  \"*\"  \"*\"  \"*\" \n",
       "26  ( 1 ) \" \"          \"*\"        \"*\"   \"*\"  \"*\"  \"*\"  \"*\"  \"*\"  \"*\"  \"*\"  \"*\" \n",
       "27  ( 1 ) \" \"          \"*\"        \"*\"   \"*\"  \"*\"  \"*\"  \"*\"  \"*\"  \"*\"  \"*\"  \"*\" \n",
       "28  ( 1 ) \" \"          \"*\"        \"*\"   \"*\"  \"*\"  \"*\"  \"*\"  \"*\"  \"*\"  \"*\"  \"*\" \n",
       "29  ( 1 ) \" \"          \"*\"        \"*\"   \"*\"  \"*\"  \"*\"  \"*\"  \"*\"  \"*\"  \"*\"  \"*\" \n",
       "30  ( 1 ) \" \"          \"*\"        \"*\"   \"*\"  \"*\"  \"*\"  \"*\"  \"*\"  \"*\"  \"*\"  \"*\" \n",
       "31  ( 1 ) \" \"          \"*\"        \"*\"   \"*\"  \"*\"  \"*\"  \"*\"  \"*\"  \"*\"  \"*\"  \"*\" \n",
       "32  ( 1 ) \" \"          \"*\"        \"*\"   \"*\"  \"*\"  \"*\"  \"*\"  \"*\"  \"*\"  \"*\"  \"*\" \n",
       "33  ( 1 ) \" \"          \"*\"        \"*\"   \"*\"  \"*\"  \"*\"  \"*\"  \"*\"  \"*\"  \"*\"  \"*\" \n",
       "34  ( 1 ) \" \"          \"*\"        \"*\"   \"*\"  \"*\"  \"*\"  \"*\"  \"*\"  \"*\"  \"*\"  \"*\" \n",
       "35  ( 1 ) \" \"          \"*\"        \"*\"   \"*\"  \"*\"  \"*\"  \"*\"  \"*\"  \"*\"  \"*\"  \"*\" \n",
       "36  ( 1 ) \" \"          \"*\"        \"*\"   \"*\"  \"*\"  \"*\"  \"*\"  \"*\"  \"*\"  \"*\"  \"*\" \n",
       "37  ( 1 ) \" \"          \"*\"        \"*\"   \"*\"  \"*\"  \"*\"  \"*\"  \"*\"  \"*\"  \"*\"  \"*\" \n",
       "38  ( 1 ) \" \"          \"*\"        \"*\"   \"*\"  \"*\"  \"*\"  \"*\"  \"*\"  \"*\"  \"*\"  \"*\" \n",
       "39  ( 1 ) \" \"          \"*\"        \"*\"   \"*\"  \"*\"  \"*\"  \"*\"  \"*\"  \"*\"  \"*\"  \"*\" \n",
       "40  ( 1 ) \" \"          \"*\"        \"*\"   \"*\"  \"*\"  \"*\"  \"*\"  \"*\"  \"*\"  \"*\"  \"*\" \n",
       "41  ( 1 ) \" \"          \"*\"        \"*\"   \"*\"  \"*\"  \"*\"  \"*\"  \"*\"  \"*\"  \"*\"  \"*\" \n",
       "42  ( 1 ) \" \"          \"*\"        \"*\"   \"*\"  \"*\"  \"*\"  \"*\"  \"*\"  \"*\"  \"*\"  \"*\" \n",
       "43  ( 1 ) \" \"          \"*\"        \"*\"   \"*\"  \"*\"  \"*\"  \"*\"  \"*\"  \"*\"  \"*\"  \"*\" \n",
       "44  ( 1 ) \" \"          \"*\"        \"*\"   \"*\"  \"*\"  \"*\"  \"*\"  \"*\"  \"*\"  \"*\"  \"*\" \n",
       "45  ( 1 ) \" \"          \"*\"        \"*\"   \"*\"  \"*\"  \"*\"  \"*\"  \"*\"  \"*\"  \"*\"  \"*\" \n",
       "46  ( 1 ) \"*\"          \"*\"        \"*\"   \"*\"  \"*\"  \"*\"  \"*\"  \"*\"  \"*\"  \"*\"  \"*\" \n",
       "          var9 var101 var111 var121 var131 var141 var151 var161 var171 var181\n",
       "1  ( 1 )  \" \"  \" \"    \" \"    \" \"    \" \"    \" \"    \" \"    \" \"    \" \"    \" \"   \n",
       "2  ( 1 )  \" \"  \" \"    \" \"    \" \"    \" \"    \" \"    \" \"    \" \"    \" \"    \" \"   \n",
       "3  ( 1 )  \" \"  \" \"    \" \"    \" \"    \" \"    \" \"    \" \"    \" \"    \" \"    \" \"   \n",
       "4  ( 1 )  \" \"  \" \"    \" \"    \" \"    \" \"    \" \"    \" \"    \" \"    \" \"    \" \"   \n",
       "5  ( 1 )  \" \"  \" \"    \" \"    \" \"    \" \"    \" \"    \" \"    \" \"    \" \"    \" \"   \n",
       "6  ( 1 )  \" \"  \" \"    \" \"    \" \"    \" \"    \" \"    \" \"    \" \"    \" \"    \" \"   \n",
       "7  ( 1 )  \" \"  \" \"    \" \"    \" \"    \" \"    \" \"    \" \"    \" \"    \" \"    \" \"   \n",
       "8  ( 1 )  \" \"  \" \"    \" \"    \" \"    \"*\"    \" \"    \" \"    \" \"    \" \"    \" \"   \n",
       "9  ( 1 )  \" \"  \" \"    \" \"    \" \"    \"*\"    \" \"    \" \"    \" \"    \" \"    \" \"   \n",
       "10  ( 1 ) \" \"  \"*\"    \" \"    \" \"    \"*\"    \" \"    \" \"    \" \"    \" \"    \" \"   \n",
       "11  ( 1 ) \" \"  \"*\"    \" \"    \" \"    \"*\"    \" \"    \" \"    \" \"    \" \"    \" \"   \n",
       "12  ( 1 ) \" \"  \"*\"    \" \"    \" \"    \"*\"    \" \"    \" \"    \" \"    \" \"    \" \"   \n",
       "13  ( 1 ) \" \"  \"*\"    \" \"    \" \"    \"*\"    \" \"    \" \"    \" \"    \" \"    \" \"   \n",
       "14  ( 1 ) \" \"  \"*\"    \" \"    \" \"    \"*\"    \" \"    \" \"    \" \"    \" \"    \" \"   \n",
       "15  ( 1 ) \" \"  \"*\"    \" \"    \" \"    \"*\"    \" \"    \" \"    \" \"    \" \"    \" \"   \n",
       "16  ( 1 ) \" \"  \"*\"    \" \"    \" \"    \"*\"    \" \"    \" \"    \" \"    \" \"    \" \"   \n",
       "17  ( 1 ) \" \"  \"*\"    \" \"    \" \"    \"*\"    \" \"    \" \"    \" \"    \" \"    \" \"   \n",
       "18  ( 1 ) \" \"  \"*\"    \" \"    \" \"    \"*\"    \" \"    \" \"    \" \"    \" \"    \" \"   \n",
       "19  ( 1 ) \" \"  \"*\"    \" \"    \" \"    \"*\"    \" \"    \" \"    \" \"    \" \"    \" \"   \n",
       "20  ( 1 ) \" \"  \"*\"    \" \"    \" \"    \"*\"    \" \"    \" \"    \" \"    \" \"    \" \"   \n",
       "21  ( 1 ) \" \"  \"*\"    \" \"    \" \"    \"*\"    \" \"    \" \"    \"*\"    \" \"    \" \"   \n",
       "22  ( 1 ) \" \"  \"*\"    \" \"    \" \"    \"*\"    \" \"    \" \"    \"*\"    \" \"    \" \"   \n",
       "23  ( 1 ) \" \"  \"*\"    \" \"    \"*\"    \"*\"    \" \"    \" \"    \"*\"    \" \"    \" \"   \n",
       "24  ( 1 ) \" \"  \"*\"    \" \"    \"*\"    \"*\"    \" \"    \" \"    \"*\"    \" \"    \" \"   \n",
       "25  ( 1 ) \" \"  \"*\"    \" \"    \"*\"    \"*\"    \" \"    \" \"    \"*\"    \"*\"    \" \"   \n",
       "26  ( 1 ) \" \"  \"*\"    \" \"    \"*\"    \"*\"    \" \"    \" \"    \"*\"    \"*\"    \" \"   \n",
       "27  ( 1 ) \" \"  \"*\"    \" \"    \"*\"    \"*\"    \" \"    \" \"    \"*\"    \"*\"    \" \"   \n",
       "28  ( 1 ) \" \"  \"*\"    \" \"    \"*\"    \"*\"    \" \"    \" \"    \"*\"    \"*\"    \" \"   \n",
       "29  ( 1 ) \" \"  \"*\"    \" \"    \"*\"    \"*\"    \" \"    \" \"    \"*\"    \"*\"    \" \"   \n",
       "30  ( 1 ) \" \"  \"*\"    \" \"    \"*\"    \"*\"    \"*\"    \" \"    \"*\"    \"*\"    \" \"   \n",
       "31  ( 1 ) \" \"  \"*\"    \" \"    \"*\"    \"*\"    \"*\"    \" \"    \"*\"    \"*\"    \" \"   \n",
       "32  ( 1 ) \" \"  \"*\"    \"*\"    \"*\"    \"*\"    \"*\"    \" \"    \"*\"    \"*\"    \" \"   \n",
       "33  ( 1 ) \" \"  \"*\"    \"*\"    \"*\"    \"*\"    \"*\"    \" \"    \"*\"    \"*\"    \"*\"   \n",
       "34  ( 1 ) \" \"  \"*\"    \"*\"    \"*\"    \"*\"    \"*\"    \"*\"    \"*\"    \"*\"    \"*\"   \n",
       "35  ( 1 ) \" \"  \"*\"    \"*\"    \"*\"    \"*\"    \"*\"    \"*\"    \"*\"    \"*\"    \"*\"   \n",
       "36  ( 1 ) \"*\"  \"*\"    \"*\"    \"*\"    \"*\"    \"*\"    \"*\"    \"*\"    \"*\"    \"*\"   \n",
       "37  ( 1 ) \"*\"  \"*\"    \"*\"    \"*\"    \"*\"    \"*\"    \"*\"    \"*\"    \"*\"    \"*\"   \n",
       "38  ( 1 ) \"*\"  \"*\"    \"*\"    \"*\"    \"*\"    \"*\"    \"*\"    \"*\"    \"*\"    \"*\"   \n",
       "39  ( 1 ) \"*\"  \"*\"    \"*\"    \"*\"    \"*\"    \"*\"    \"*\"    \"*\"    \"*\"    \"*\"   \n",
       "40  ( 1 ) \"*\"  \"*\"    \"*\"    \"*\"    \"*\"    \"*\"    \"*\"    \"*\"    \"*\"    \"*\"   \n",
       "41  ( 1 ) \"*\"  \"*\"    \"*\"    \"*\"    \"*\"    \"*\"    \"*\"    \"*\"    \"*\"    \"*\"   \n",
       "42  ( 1 ) \"*\"  \"*\"    \"*\"    \"*\"    \"*\"    \"*\"    \"*\"    \"*\"    \"*\"    \"*\"   \n",
       "43  ( 1 ) \"*\"  \"*\"    \"*\"    \"*\"    \"*\"    \"*\"    \"*\"    \"*\"    \"*\"    \"*\"   \n",
       "44  ( 1 ) \"*\"  \"*\"    \"*\"    \"*\"    \"*\"    \"*\"    \"*\"    \"*\"    \"*\"    \"*\"   \n",
       "45  ( 1 ) \"*\"  \"*\"    \"*\"    \"*\"    \"*\"    \"*\"    \"*\"    \"*\"    \"*\"    \"*\"   \n",
       "46  ( 1 ) \"*\"  \"*\"    \"*\"    \"*\"    \"*\"    \"*\"    \"*\"    \"*\"    \"*\"    \"*\"   \n",
       "          var191 var201 var211 var221 var231 var241 var251 var261 var271 var281\n",
       "1  ( 1 )  \" \"    \" \"    \" \"    \" \"    \" \"    \" \"    \" \"    \" \"    \" \"    \" \"   \n",
       "2  ( 1 )  \" \"    \" \"    \" \"    \" \"    \" \"    \" \"    \" \"    \" \"    \" \"    \" \"   \n",
       "3  ( 1 )  \" \"    \" \"    \" \"    \" \"    \" \"    \" \"    \" \"    \" \"    \" \"    \" \"   \n",
       "4  ( 1 )  \" \"    \" \"    \" \"    \" \"    \" \"    \" \"    \" \"    \" \"    \" \"    \" \"   \n",
       "5  ( 1 )  \" \"    \" \"    \" \"    \" \"    \" \"    \" \"    \" \"    \" \"    \" \"    \" \"   \n",
       "6  ( 1 )  \" \"    \" \"    \" \"    \" \"    \"*\"    \" \"    \" \"    \" \"    \" \"    \" \"   \n",
       "7  ( 1 )  \" \"    \" \"    \" \"    \" \"    \"*\"    \" \"    \" \"    \" \"    \" \"    \" \"   \n",
       "8  ( 1 )  \" \"    \" \"    \" \"    \" \"    \"*\"    \" \"    \" \"    \" \"    \" \"    \" \"   \n",
       "9  ( 1 )  \" \"    \" \"    \" \"    \" \"    \"*\"    \" \"    \" \"    \"*\"    \" \"    \" \"   \n",
       "10  ( 1 ) \" \"    \" \"    \" \"    \" \"    \"*\"    \" \"    \" \"    \"*\"    \" \"    \" \"   \n",
       "11  ( 1 ) \" \"    \" \"    \" \"    \" \"    \"*\"    \" \"    \" \"    \"*\"    \" \"    \" \"   \n",
       "12  ( 1 ) \" \"    \" \"    \" \"    \" \"    \"*\"    \" \"    \" \"    \"*\"    \" \"    \" \"   \n",
       "13  ( 1 ) \" \"    \"*\"    \" \"    \" \"    \"*\"    \" \"    \" \"    \"*\"    \" \"    \" \"   \n",
       "14  ( 1 ) \" \"    \"*\"    \" \"    \" \"    \"*\"    \" \"    \" \"    \"*\"    \" \"    \" \"   \n",
       "15  ( 1 ) \" \"    \"*\"    \" \"    \"*\"    \"*\"    \" \"    \" \"    \"*\"    \" \"    \" \"   \n",
       "16  ( 1 ) \" \"    \"*\"    \" \"    \"*\"    \"*\"    \" \"    \" \"    \"*\"    \" \"    \" \"   \n",
       "17  ( 1 ) \" \"    \"*\"    \" \"    \"*\"    \"*\"    \" \"    \" \"    \"*\"    \" \"    \" \"   \n",
       "18  ( 1 ) \" \"    \"*\"    \" \"    \"*\"    \"*\"    \" \"    \" \"    \"*\"    \" \"    \" \"   \n",
       "19  ( 1 ) \" \"    \"*\"    \" \"    \"*\"    \"*\"    \" \"    \" \"    \"*\"    \" \"    \"*\"   \n",
       "20  ( 1 ) \" \"    \"*\"    \" \"    \"*\"    \"*\"    \" \"    \" \"    \"*\"    \" \"    \"*\"   \n",
       "21  ( 1 ) \" \"    \"*\"    \" \"    \"*\"    \"*\"    \" \"    \" \"    \"*\"    \" \"    \"*\"   \n",
       "22  ( 1 ) \" \"    \"*\"    \" \"    \"*\"    \"*\"    \" \"    \" \"    \"*\"    \" \"    \"*\"   \n",
       "23  ( 1 ) \" \"    \"*\"    \" \"    \"*\"    \"*\"    \" \"    \" \"    \"*\"    \" \"    \"*\"   \n",
       "24  ( 1 ) \" \"    \"*\"    \" \"    \"*\"    \"*\"    \" \"    \" \"    \"*\"    \" \"    \"*\"   \n",
       "25  ( 1 ) \" \"    \"*\"    \" \"    \"*\"    \"*\"    \" \"    \" \"    \"*\"    \" \"    \"*\"   \n",
       "26  ( 1 ) \" \"    \"*\"    \" \"    \"*\"    \"*\"    \" \"    \" \"    \"*\"    \" \"    \"*\"   \n",
       "27  ( 1 ) \" \"    \"*\"    \" \"    \"*\"    \"*\"    \"*\"    \" \"    \"*\"    \" \"    \"*\"   \n",
       "28  ( 1 ) \" \"    \"*\"    \" \"    \"*\"    \"*\"    \"*\"    \" \"    \"*\"    \"*\"    \"*\"   \n",
       "29  ( 1 ) \" \"    \"*\"    \" \"    \"*\"    \"*\"    \"*\"    \"*\"    \"*\"    \"*\"    \"*\"   \n",
       "30  ( 1 ) \" \"    \"*\"    \" \"    \"*\"    \"*\"    \"*\"    \"*\"    \"*\"    \"*\"    \"*\"   \n",
       "31  ( 1 ) \" \"    \"*\"    \" \"    \"*\"    \"*\"    \"*\"    \"*\"    \"*\"    \"*\"    \"*\"   \n",
       "32  ( 1 ) \" \"    \"*\"    \" \"    \"*\"    \"*\"    \"*\"    \"*\"    \"*\"    \"*\"    \"*\"   \n",
       "33  ( 1 ) \" \"    \"*\"    \" \"    \"*\"    \"*\"    \"*\"    \"*\"    \"*\"    \"*\"    \"*\"   \n",
       "34  ( 1 ) \" \"    \"*\"    \" \"    \"*\"    \"*\"    \"*\"    \"*\"    \"*\"    \"*\"    \"*\"   \n",
       "35  ( 1 ) \" \"    \"*\"    \" \"    \"*\"    \"*\"    \"*\"    \"*\"    \"*\"    \"*\"    \"*\"   \n",
       "36  ( 1 ) \" \"    \"*\"    \" \"    \"*\"    \"*\"    \"*\"    \"*\"    \"*\"    \"*\"    \"*\"   \n",
       "37  ( 1 ) \" \"    \"*\"    \"*\"    \"*\"    \"*\"    \"*\"    \"*\"    \"*\"    \"*\"    \"*\"   \n",
       "38  ( 1 ) \"*\"    \"*\"    \"*\"    \"*\"    \"*\"    \"*\"    \"*\"    \"*\"    \"*\"    \"*\"   \n",
       "39  ( 1 ) \"*\"    \"*\"    \"*\"    \"*\"    \"*\"    \"*\"    \"*\"    \"*\"    \"*\"    \"*\"   \n",
       "40  ( 1 ) \"*\"    \"*\"    \"*\"    \"*\"    \"*\"    \"*\"    \"*\"    \"*\"    \"*\"    \"*\"   \n",
       "41  ( 1 ) \"*\"    \"*\"    \"*\"    \"*\"    \"*\"    \"*\"    \"*\"    \"*\"    \"*\"    \"*\"   \n",
       "42  ( 1 ) \"*\"    \"*\"    \"*\"    \"*\"    \"*\"    \"*\"    \"*\"    \"*\"    \"*\"    \"*\"   \n",
       "43  ( 1 ) \"*\"    \"*\"    \"*\"    \"*\"    \"*\"    \"*\"    \"*\"    \"*\"    \"*\"    \"*\"   \n",
       "44  ( 1 ) \"*\"    \"*\"    \"*\"    \"*\"    \"*\"    \"*\"    \"*\"    \"*\"    \"*\"    \"*\"   \n",
       "45  ( 1 ) \"*\"    \"*\"    \"*\"    \"*\"    \"*\"    \"*\"    \"*\"    \"*\"    \"*\"    \"*\"   \n",
       "46  ( 1 ) \"*\"    \"*\"    \"*\"    \"*\"    \"*\"    \"*\"    \"*\"    \"*\"    \"*\"    \"*\"   \n",
       "          var291 var301 var311 var321 var331 var341 var351 var361 var371 var38\n",
       "1  ( 1 )  \" \"    \" \"    \" \"    \" \"    \" \"    \" \"    \" \"    \" \"    \" \"    \" \"  \n",
       "2  ( 1 )  \" \"    \" \"    \" \"    \" \"    \" \"    \" \"    \" \"    \" \"    \" \"    \" \"  \n",
       "3  ( 1 )  \" \"    \" \"    \" \"    \" \"    \" \"    \" \"    \" \"    \" \"    \" \"    \"*\"  \n",
       "4  ( 1 )  \" \"    \" \"    \" \"    \" \"    \" \"    \" \"    \" \"    \" \"    \" \"    \"*\"  \n",
       "5  ( 1 )  \" \"    \" \"    \" \"    \" \"    \" \"    \" \"    \" \"    \" \"    \" \"    \"*\"  \n",
       "6  ( 1 )  \" \"    \" \"    \" \"    \" \"    \" \"    \" \"    \" \"    \" \"    \" \"    \"*\"  \n",
       "7  ( 1 )  \" \"    \" \"    \" \"    \" \"    \" \"    \" \"    \" \"    \" \"    \" \"    \"*\"  \n",
       "8  ( 1 )  \" \"    \" \"    \" \"    \" \"    \" \"    \" \"    \" \"    \" \"    \" \"    \"*\"  \n",
       "9  ( 1 )  \" \"    \" \"    \" \"    \" \"    \" \"    \" \"    \" \"    \" \"    \" \"    \"*\"  \n",
       "10  ( 1 ) \" \"    \" \"    \" \"    \" \"    \" \"    \" \"    \" \"    \" \"    \" \"    \"*\"  \n",
       "11  ( 1 ) \" \"    \" \"    \" \"    \" \"    \" \"    \" \"    \" \"    \" \"    \" \"    \"*\"  \n",
       "12  ( 1 ) \" \"    \" \"    \" \"    \" \"    \" \"    \" \"    \" \"    \" \"    \" \"    \"*\"  \n",
       "13  ( 1 ) \" \"    \" \"    \" \"    \" \"    \" \"    \" \"    \" \"    \" \"    \" \"    \"*\"  \n",
       "14  ( 1 ) \" \"    \"*\"    \" \"    \" \"    \" \"    \" \"    \" \"    \" \"    \" \"    \"*\"  \n",
       "15  ( 1 ) \" \"    \"*\"    \" \"    \" \"    \" \"    \" \"    \" \"    \" \"    \" \"    \"*\"  \n",
       "16  ( 1 ) \" \"    \"*\"    \" \"    \" \"    \"*\"    \" \"    \" \"    \" \"    \" \"    \"*\"  \n",
       "17  ( 1 ) \" \"    \"*\"    \" \"    \" \"    \"*\"    \" \"    \"*\"    \" \"    \" \"    \"*\"  \n",
       "18  ( 1 ) \" \"    \"*\"    \" \"    \" \"    \"*\"    \" \"    \"*\"    \" \"    \" \"    \"*\"  \n",
       "19  ( 1 ) \" \"    \"*\"    \" \"    \" \"    \"*\"    \" \"    \"*\"    \" \"    \" \"    \"*\"  \n",
       "20  ( 1 ) \" \"    \"*\"    \" \"    \" \"    \"*\"    \" \"    \"*\"    \" \"    \" \"    \"*\"  \n",
       "21  ( 1 ) \" \"    \"*\"    \" \"    \" \"    \"*\"    \" \"    \"*\"    \" \"    \" \"    \"*\"  \n",
       "22  ( 1 ) \" \"    \"*\"    \" \"    \" \"    \"*\"    \" \"    \"*\"    \" \"    \" \"    \"*\"  \n",
       "23  ( 1 ) \" \"    \"*\"    \" \"    \" \"    \"*\"    \" \"    \"*\"    \" \"    \" \"    \"*\"  \n",
       "24  ( 1 ) \" \"    \"*\"    \" \"    \" \"    \"*\"    \"*\"    \"*\"    \" \"    \" \"    \"*\"  \n",
       "25  ( 1 ) \" \"    \"*\"    \" \"    \" \"    \"*\"    \"*\"    \"*\"    \" \"    \" \"    \"*\"  \n",
       "26  ( 1 ) \" \"    \"*\"    \" \"    \" \"    \"*\"    \"*\"    \"*\"    \" \"    \" \"    \"*\"  \n",
       "27  ( 1 ) \" \"    \"*\"    \" \"    \" \"    \"*\"    \"*\"    \"*\"    \" \"    \" \"    \"*\"  \n",
       "28  ( 1 ) \" \"    \"*\"    \" \"    \" \"    \"*\"    \"*\"    \"*\"    \" \"    \" \"    \"*\"  \n",
       "29  ( 1 ) \" \"    \"*\"    \" \"    \" \"    \"*\"    \"*\"    \"*\"    \" \"    \" \"    \"*\"  \n",
       "30  ( 1 ) \" \"    \"*\"    \" \"    \" \"    \"*\"    \"*\"    \"*\"    \" \"    \" \"    \"*\"  \n",
       "31  ( 1 ) \" \"    \"*\"    \" \"    \" \"    \"*\"    \"*\"    \"*\"    \" \"    \" \"    \"*\"  \n",
       "32  ( 1 ) \" \"    \"*\"    \" \"    \" \"    \"*\"    \"*\"    \"*\"    \" \"    \" \"    \"*\"  \n",
       "33  ( 1 ) \" \"    \"*\"    \" \"    \" \"    \"*\"    \"*\"    \"*\"    \" \"    \" \"    \"*\"  \n",
       "34  ( 1 ) \" \"    \"*\"    \" \"    \" \"    \"*\"    \"*\"    \"*\"    \" \"    \" \"    \"*\"  \n",
       "35  ( 1 ) \" \"    \"*\"    \" \"    \" \"    \"*\"    \"*\"    \"*\"    \" \"    \" \"    \"*\"  \n",
       "36  ( 1 ) \" \"    \"*\"    \" \"    \" \"    \"*\"    \"*\"    \"*\"    \" \"    \" \"    \"*\"  \n",
       "37  ( 1 ) \" \"    \"*\"    \" \"    \" \"    \"*\"    \"*\"    \"*\"    \" \"    \" \"    \"*\"  \n",
       "38  ( 1 ) \" \"    \"*\"    \" \"    \" \"    \"*\"    \"*\"    \"*\"    \" \"    \" \"    \"*\"  \n",
       "39  ( 1 ) \" \"    \"*\"    \"*\"    \" \"    \"*\"    \"*\"    \"*\"    \" \"    \" \"    \"*\"  \n",
       "40  ( 1 ) \" \"    \"*\"    \"*\"    \"*\"    \"*\"    \"*\"    \"*\"    \" \"    \" \"    \"*\"  \n",
       "41  ( 1 ) \" \"    \"*\"    \"*\"    \"*\"    \"*\"    \"*\"    \"*\"    \"*\"    \" \"    \"*\"  \n",
       "42  ( 1 ) \" \"    \"*\"    \"*\"    \"*\"    \"*\"    \"*\"    \"*\"    \"*\"    \" \"    \"*\"  \n",
       "43  ( 1 ) \" \"    \"*\"    \"*\"    \"*\"    \"*\"    \"*\"    \"*\"    \"*\"    \"*\"    \"*\"  \n",
       "44  ( 1 ) \" \"    \"*\"    \"*\"    \"*\"    \"*\"    \"*\"    \"*\"    \"*\"    \"*\"    \"*\"  \n",
       "45  ( 1 ) \"*\"    \"*\"    \"*\"    \"*\"    \"*\"    \"*\"    \"*\"    \"*\"    \"*\"    \"*\"  \n",
       "46  ( 1 ) \"*\"    \"*\"    \"*\"    \"*\"    \"*\"    \"*\"    \"*\"    \"*\"    \"*\"    \"*\"  "
      ]
     },
     "metadata": {},
     "output_type": "display_data"
    }
   ],
   "source": [
    "summary(mod_stepb)"
   ]
  },
  {
   "cell_type": "code",
   "execution_count": 35,
   "metadata": {
    "ExecuteTime": {
     "end_time": "2019-12-15T08:30:59.603122Z",
     "start_time": "2019-12-15T08:30:58.383Z"
    }
   },
   "outputs": [
    {
     "data": {
      "text/html": [
       "<dl class=dl-horizontal>\n",
       "\t<dt>(Intercept)</dt>\n",
       "\t\t<dd>1.45316847338829</dd>\n",
       "\t<dt>timestamp</dt>\n",
       "\t\t<dd>5.28086204295144e-05</dd>\n",
       "\t<dt>id_category1</dt>\n",
       "\t\t<dd>-0.000614753217176252</dd>\n",
       "\t<dt>id_category2</dt>\n",
       "\t\t<dd>0.0049443405296926</dd>\n",
       "\t<dt>id_category3</dt>\n",
       "\t\t<dd>-0.0063689579534636</dd>\n",
       "\t<dt>id_category4</dt>\n",
       "\t\t<dd>-0.003539342653141</dd>\n",
       "\t<dt>id_category5</dt>\n",
       "\t\t<dd>-0.0024693418999703</dd>\n",
       "\t<dt>start_date</dt>\n",
       "\t\t<dd>1.89718782552929e-05</dd>\n",
       "\t<dt>var11</dt>\n",
       "\t\t<dd>-0.950202564395641</dd>\n",
       "\t<dt>var0</dt>\n",
       "\t\t<dd>3.67156493202281e-07</dd>\n",
       "\t<dt>var2</dt>\n",
       "\t\t<dd>0.482330944227326</dd>\n",
       "\t<dt>var3</dt>\n",
       "\t\t<dd>0.000745532373171814</dd>\n",
       "\t<dt>var4</dt>\n",
       "\t\t<dd>-0.000685338299183365</dd>\n",
       "\t<dt>var5</dt>\n",
       "\t\t<dd>-0.00200289237885857</dd>\n",
       "\t<dt>var6</dt>\n",
       "\t\t<dd>-0.0247396482575401</dd>\n",
       "\t<dt>var7</dt>\n",
       "\t\t<dd>-0.00172721287231934</dd>\n",
       "\t<dt>var8</dt>\n",
       "\t\t<dd>-0.00522219156803719</dd>\n",
       "\t<dt>var9</dt>\n",
       "\t\t<dd>-0.00083011262762411</dd>\n",
       "\t<dt>var101</dt>\n",
       "\t\t<dd>0.0231743862776105</dd>\n",
       "\t<dt>var111</dt>\n",
       "\t\t<dd>-0.00780505222081725</dd>\n",
       "\t<dt>var121</dt>\n",
       "\t\t<dd>-0.0133775973531451</dd>\n",
       "\t<dt>var131</dt>\n",
       "\t\t<dd>0.0289623984804003</dd>\n",
       "\t<dt>var141</dt>\n",
       "\t\t<dd>-0.0078849024110985</dd>\n",
       "\t<dt>var151</dt>\n",
       "\t\t<dd>-0.00773535413327992</dd>\n",
       "\t<dt>var161</dt>\n",
       "\t\t<dd>0.0217983302634446</dd>\n",
       "\t<dt>var171</dt>\n",
       "\t\t<dd>-0.0123538231417802</dd>\n",
       "\t<dt>var181</dt>\n",
       "\t\t<dd>0.00764969545024915</dd>\n",
       "\t<dt>var191</dt>\n",
       "\t\t<dd>-0.00380100555346564</dd>\n",
       "\t<dt>var201</dt>\n",
       "\t\t<dd>-0.0439438072480016</dd>\n",
       "\t<dt>var211</dt>\n",
       "\t\t<dd>0.0131259150401832</dd>\n",
       "\t<dt>var221</dt>\n",
       "\t\t<dd>0.0299691306673279</dd>\n",
       "\t<dt>var231</dt>\n",
       "\t\t<dd>-0.0409851064617257</dd>\n",
       "\t<dt>var241</dt>\n",
       "\t\t<dd>0.0143879672933538</dd>\n",
       "\t<dt>var251</dt>\n",
       "\t\t<dd>-0.0080164512189882</dd>\n",
       "\t<dt>var261</dt>\n",
       "\t\t<dd>-0.0446391820716452</dd>\n",
       "\t<dt>var271</dt>\n",
       "\t\t<dd>0.0132769510287856</dd>\n",
       "\t<dt>var281</dt>\n",
       "\t\t<dd>-0.034985473634995</dd>\n",
       "\t<dt>var291</dt>\n",
       "\t\t<dd>0.000651944639934422</dd>\n",
       "\t<dt>var301</dt>\n",
       "\t\t<dd>0.0258174041618142</dd>\n",
       "\t<dt>var311</dt>\n",
       "\t\t<dd>-0.00368492900140644</dd>\n",
       "\t<dt>var321</dt>\n",
       "\t\t<dd>-0.00306641954365151</dd>\n",
       "\t<dt>var331</dt>\n",
       "\t\t<dd>-0.022946630644259</dd>\n",
       "\t<dt>var341</dt>\n",
       "\t\t<dd>0.0216331757372212</dd>\n",
       "\t<dt>var351</dt>\n",
       "\t\t<dd>0.0234207440556076</dd>\n",
       "\t<dt>var361</dt>\n",
       "\t\t<dd>0.00273843887232642</dd>\n",
       "\t<dt>var371</dt>\n",
       "\t\t<dd>-0.00115151563682795</dd>\n",
       "\t<dt>var38</dt>\n",
       "\t\t<dd>0.00349183901291057</dd>\n",
       "</dl>\n"
      ],
      "text/latex": [
       "\\begin{description*}\n",
       "\\item[(Intercept)] 1.45316847338829\n",
       "\\item[timestamp] 5.28086204295144e-05\n",
       "\\item[id\\textbackslash{}\\_category1] -0.000614753217176252\n",
       "\\item[id\\textbackslash{}\\_category2] 0.0049443405296926\n",
       "\\item[id\\textbackslash{}\\_category3] -0.0063689579534636\n",
       "\\item[id\\textbackslash{}\\_category4] -0.003539342653141\n",
       "\\item[id\\textbackslash{}\\_category5] -0.0024693418999703\n",
       "\\item[start\\textbackslash{}\\_date] 1.89718782552929e-05\n",
       "\\item[var11] -0.950202564395641\n",
       "\\item[var0] 3.67156493202281e-07\n",
       "\\item[var2] 0.482330944227326\n",
       "\\item[var3] 0.000745532373171814\n",
       "\\item[var4] -0.000685338299183365\n",
       "\\item[var5] -0.00200289237885857\n",
       "\\item[var6] -0.0247396482575401\n",
       "\\item[var7] -0.00172721287231934\n",
       "\\item[var8] -0.00522219156803719\n",
       "\\item[var9] -0.00083011262762411\n",
       "\\item[var101] 0.0231743862776105\n",
       "\\item[var111] -0.00780505222081725\n",
       "\\item[var121] -0.0133775973531451\n",
       "\\item[var131] 0.0289623984804003\n",
       "\\item[var141] -0.0078849024110985\n",
       "\\item[var151] -0.00773535413327992\n",
       "\\item[var161] 0.0217983302634446\n",
       "\\item[var171] -0.0123538231417802\n",
       "\\item[var181] 0.00764969545024915\n",
       "\\item[var191] -0.00380100555346564\n",
       "\\item[var201] -0.0439438072480016\n",
       "\\item[var211] 0.0131259150401832\n",
       "\\item[var221] 0.0299691306673279\n",
       "\\item[var231] -0.0409851064617257\n",
       "\\item[var241] 0.0143879672933538\n",
       "\\item[var251] -0.0080164512189882\n",
       "\\item[var261] -0.0446391820716452\n",
       "\\item[var271] 0.0132769510287856\n",
       "\\item[var281] -0.034985473634995\n",
       "\\item[var291] 0.000651944639934422\n",
       "\\item[var301] 0.0258174041618142\n",
       "\\item[var311] -0.00368492900140644\n",
       "\\item[var321] -0.00306641954365151\n",
       "\\item[var331] -0.022946630644259\n",
       "\\item[var341] 0.0216331757372212\n",
       "\\item[var351] 0.0234207440556076\n",
       "\\item[var361] 0.00273843887232642\n",
       "\\item[var371] -0.00115151563682795\n",
       "\\item[var38] 0.00349183901291057\n",
       "\\end{description*}\n"
      ],
      "text/markdown": [
       "(Intercept)\n",
       ":   1.45316847338829timestamp\n",
       ":   5.28086204295144e-05id_category1\n",
       ":   -0.000614753217176252id_category2\n",
       ":   0.0049443405296926id_category3\n",
       ":   -0.0063689579534636id_category4\n",
       ":   -0.003539342653141id_category5\n",
       ":   -0.0024693418999703start_date\n",
       ":   1.89718782552929e-05var11\n",
       ":   -0.950202564395641var0\n",
       ":   3.67156493202281e-07var2\n",
       ":   0.482330944227326var3\n",
       ":   0.000745532373171814var4\n",
       ":   -0.000685338299183365var5\n",
       ":   -0.00200289237885857var6\n",
       ":   -0.0247396482575401var7\n",
       ":   -0.00172721287231934var8\n",
       ":   -0.00522219156803719var9\n",
       ":   -0.00083011262762411var101\n",
       ":   0.0231743862776105var111\n",
       ":   -0.00780505222081725var121\n",
       ":   -0.0133775973531451var131\n",
       ":   0.0289623984804003var141\n",
       ":   -0.0078849024110985var151\n",
       ":   -0.00773535413327992var161\n",
       ":   0.0217983302634446var171\n",
       ":   -0.0123538231417802var181\n",
       ":   0.00764969545024915var191\n",
       ":   -0.00380100555346564var201\n",
       ":   -0.0439438072480016var211\n",
       ":   0.0131259150401832var221\n",
       ":   0.0299691306673279var231\n",
       ":   -0.0409851064617257var241\n",
       ":   0.0143879672933538var251\n",
       ":   -0.0080164512189882var261\n",
       ":   -0.0446391820716452var271\n",
       ":   0.0132769510287856var281\n",
       ":   -0.034985473634995var291\n",
       ":   0.000651944639934422var301\n",
       ":   0.0258174041618142var311\n",
       ":   -0.00368492900140644var321\n",
       ":   -0.00306641954365151var331\n",
       ":   -0.022946630644259var341\n",
       ":   0.0216331757372212var351\n",
       ":   0.0234207440556076var361\n",
       ":   0.00273843887232642var371\n",
       ":   -0.00115151563682795var38\n",
       ":   0.00349183901291057\n",
       "\n"
      ],
      "text/plain": [
       "  (Intercept)     timestamp  id_category1  id_category2  id_category3 \n",
       " 1.453168e+00  5.280862e-05 -6.147532e-04  4.944341e-03 -6.368958e-03 \n",
       " id_category4  id_category5    start_date         var11          var0 \n",
       "-3.539343e-03 -2.469342e-03  1.897188e-05 -9.502026e-01  3.671565e-07 \n",
       "         var2          var3          var4          var5          var6 \n",
       " 4.823309e-01  7.455324e-04 -6.853383e-04 -2.002892e-03 -2.473965e-02 \n",
       "         var7          var8          var9        var101        var111 \n",
       "-1.727213e-03 -5.222192e-03 -8.301126e-04  2.317439e-02 -7.805052e-03 \n",
       "       var121        var131        var141        var151        var161 \n",
       "-1.337760e-02  2.896240e-02 -7.884902e-03 -7.735354e-03  2.179833e-02 \n",
       "       var171        var181        var191        var201        var211 \n",
       "-1.235382e-02  7.649695e-03 -3.801006e-03 -4.394381e-02  1.312592e-02 \n",
       "       var221        var231        var241        var251        var261 \n",
       " 2.996913e-02 -4.098511e-02  1.438797e-02 -8.016451e-03 -4.463918e-02 \n",
       "       var271        var281        var291        var301        var311 \n",
       " 1.327695e-02 -3.498547e-02  6.519446e-04  2.581740e-02 -3.684929e-03 \n",
       "       var321        var331        var341        var351        var361 \n",
       "-3.066420e-03 -2.294663e-02  2.163318e-02  2.342074e-02  2.738439e-03 \n",
       "       var371         var38 \n",
       "-1.151516e-03  3.491839e-03 "
      ]
     },
     "metadata": {},
     "output_type": "display_data"
    }
   ],
   "source": [
    "resumo_stepb <- summary(mod_stepb)\n",
    "coef(mod_stepb , id = which.min(resumo_stepb$rss))\n",
    "\n",
    "# Fazendo predict do teste com  coeficientes de menor valor de rss obtido no resumo_stepf\n",
    "pred <- predict.regsubsets(mod_stepb, newdata = teste, id = which.min(resumo_stepb$rss))\n",
    "\n",
    "# Transformando resultado em probabilidades\n",
    "pred_stepb <- exp(pred) / (1 + exp(pred))"
   ]
  },
  {
   "cell_type": "code",
   "execution_count": 36,
   "metadata": {
    "ExecuteTime": {
     "end_time": "2019-12-15T08:31:00.111520Z",
     "start_time": "2019-12-15T08:30:59.092Z"
    },
    "scrolled": true
   },
   "outputs": [
    {
     "name": "stdout",
     "output_type": "stream",
     "text": [
      "    corte      erro \n",
      "0.8200000 0.1895008 \n"
     ]
    }
   ],
   "source": [
    "temp <- escolhe_corte(pred_stepb, teste$answer)\n",
    "print(temp)\n",
    "resultados[nrow(resultados)+1, ] = c(\"Logistico stepb 200\", temp[2], temp[1])"
   ]
  },
  {
   "cell_type": "code",
   "execution_count": 37,
   "metadata": {
    "ExecuteTime": {
     "end_time": "2019-12-15T08:31:00.577918Z",
     "start_time": "2019-12-15T08:31:00.551Z"
    }
   },
   "outputs": [
    {
     "data": {
      "text/html": [
       "<table>\n",
       "<thead><tr><th scope=col>metodo</th><th scope=col>erro</th><th scope=col>corte</th></tr></thead>\n",
       "<tbody>\n",
       "\t<tr><td>Logistico          </td><td>0.186092507098424  </td><td>0.54               </td></tr>\n",
       "\t<tr><td>Logistico stepf 200</td><td>0.189500834471249  </td><td>0.82               </td></tr>\n",
       "\t<tr><td>Logistico stepb 200</td><td>0.189500834471249  </td><td>0.82               </td></tr>\n",
       "</tbody>\n",
       "</table>\n"
      ],
      "text/latex": [
       "\\begin{tabular}{r|lll}\n",
       " metodo & erro & corte\\\\\n",
       "\\hline\n",
       "\t Logistico           & 0.186092507098424   & 0.54               \\\\\n",
       "\t Logistico stepf 200 & 0.189500834471249   & 0.82               \\\\\n",
       "\t Logistico stepb 200 & 0.189500834471249   & 0.82               \\\\\n",
       "\\end{tabular}\n"
      ],
      "text/markdown": [
       "\n",
       "| metodo | erro | corte |\n",
       "|---|---|---|\n",
       "| Logistico           | 0.186092507098424   | 0.54                |\n",
       "| Logistico stepf 200 | 0.189500834471249   | 0.82                |\n",
       "| Logistico stepb 200 | 0.189500834471249   | 0.82                |\n",
       "\n"
      ],
      "text/plain": [
       "  metodo              erro              corte\n",
       "1 Logistico           0.186092507098424 0.54 \n",
       "2 Logistico stepf 200 0.189500834471249 0.82 \n",
       "3 Logistico stepb 200 0.189500834471249 0.82 "
      ]
     },
     "metadata": {},
     "output_type": "display_data"
    }
   ],
   "source": [
    "resultados"
   ]
  },
  {
   "cell_type": "markdown",
   "metadata": {},
   "source": [
    "### Regularização"
   ]
  },
  {
   "cell_type": "markdown",
   "metadata": {},
   "source": [
    "Função cv.glmnet ajusta cem modelos considerando diferentes valores de penalização lambda. Por ela é possível escolher o lambda que minimiza o erro através da validação cruzada."
   ]
  },
  {
   "cell_type": "code",
   "execution_count": 39,
   "metadata": {
    "ExecuteTime": {
     "end_time": "2019-12-15T08:31:20.678325Z",
     "start_time": "2019-12-15T08:31:20.094Z"
    }
   },
   "outputs": [],
   "source": [
    "# Regularização\n",
    "library(glmnet)\n",
    "\n",
    "x_treino <- model.matrix(answer~., treino)[,-1]\n",
    "y_treino <- df$answer[ids]\n",
    "\n",
    "x_teste <- model.matrix(answer~., teste)[,-1]\n",
    "y_teste <- df$answer[-ids]"
   ]
  },
  {
   "cell_type": "markdown",
   "metadata": {},
   "source": [
    "### Ridge"
   ]
  },
  {
   "cell_type": "markdown",
   "metadata": {},
   "source": [
    "Na regressão penalizada, é necessário especificar um lambda constante para ajustar a quantidade de encolhimento do coeficiente. O melhor lambda para seus dados pode ser definida como o que minimiza a taxa de erro de previsão de validação cruzada. Conforme ja exposto, a funcao cv.glmnet() ja determina isso de forma automatica."
   ]
  },
  {
   "cell_type": "code",
   "execution_count": 49,
   "metadata": {
    "ExecuteTime": {
     "end_time": "2019-12-14T21:56:35.910805Z",
     "start_time": "2019-12-14T21:42:00.194Z"
    }
   },
   "outputs": [
    {
     "name": "stdout",
     "output_type": "stream",
     "text": [
      "[1] 0.03449106\n"
     ]
    }
   ],
   "source": [
    "# Ridge\n",
    "set.seed(1)\n",
    "ridge_cv = cv.glmnet(x_treino, y_treino, alpha=0,family='binomial')\n",
    "\n",
    "# Encontrando lambda que minimiza erro de predição\n",
    "print(ridge_cv$lambda.min)"
   ]
  },
  {
   "cell_type": "code",
   "execution_count": 40,
   "metadata": {
    "ExecuteTime": {
     "end_time": "2019-12-15T08:31:34.721798Z",
     "start_time": "2019-12-15T08:31:34.693Z"
    }
   },
   "outputs": [],
   "source": [
    "lambda_ridge=0.03449106"
   ]
  },
  {
   "cell_type": "code",
   "execution_count": 41,
   "metadata": {
    "ExecuteTime": {
     "end_time": "2019-12-15T08:31:44.608048Z",
     "start_time": "2019-12-15T08:31:35.069Z"
    }
   },
   "outputs": [],
   "source": [
    "# ridge_melhor_modelo = glmnet(x_treino, y_treino, alpha = 0, \n",
    "#                              lambda = ridge_cv$lambda.min,family='binomial')\n",
    "ridge_melhor_modelo = glmnet(x_treino, y_treino, alpha = 0, \n",
    "                              lambda = lambda_ridge,family='binomial')"
   ]
  },
  {
   "cell_type": "code",
   "execution_count": 42,
   "metadata": {
    "ExecuteTime": {
     "end_time": "2019-12-15T08:31:45.371070Z",
     "start_time": "2019-12-15T08:31:35.444Z"
    }
   },
   "outputs": [],
   "source": [
    "# Porcentagem de acerto com Ridge\n",
    "x.test <- model.matrix(answer ~., teste)[,-1]\n",
    "pred <- predict(ridge_melhor_modelo,newx = x.test,s = lambda_ridge,type='response')\n",
    "temp <- escolhe_corte(pred, teste$answer)\n",
    "\n",
    "resultados[nrow(resultados)+1, ] = c(paste(\"Ridge lambda =\", round(lambda_ridge, 4)), \n",
    "                                     temp[2], temp[1])"
   ]
  },
  {
   "cell_type": "code",
   "execution_count": 43,
   "metadata": {
    "ExecuteTime": {
     "end_time": "2019-12-15T08:31:45.406289Z",
     "start_time": "2019-12-15T08:31:36.870Z"
    }
   },
   "outputs": [
    {
     "data": {
      "text/html": [
       "<table>\n",
       "<thead><tr><th scope=col>metodo</th><th scope=col>erro</th><th scope=col>corte</th></tr></thead>\n",
       "<tbody>\n",
       "\t<tr><td>Logistico            </td><td>0.186092507098424    </td><td>0.54                 </td></tr>\n",
       "\t<tr><td>Logistico stepf 200  </td><td>0.189500834471249    </td><td>0.82                 </td></tr>\n",
       "\t<tr><td>Logistico stepb 200  </td><td>0.189500834471249    </td><td>0.82                 </td></tr>\n",
       "\t<tr><td>Ridge lambda = 0.0345</td><td>0.18847671066606     </td><td>0.44                 </td></tr>\n",
       "</tbody>\n",
       "</table>\n"
      ],
      "text/latex": [
       "\\begin{tabular}{r|lll}\n",
       " metodo & erro & corte\\\\\n",
       "\\hline\n",
       "\t Logistico             & 0.186092507098424     & 0.54                 \\\\\n",
       "\t Logistico stepf 200   & 0.189500834471249     & 0.82                 \\\\\n",
       "\t Logistico stepb 200   & 0.189500834471249     & 0.82                 \\\\\n",
       "\t Ridge lambda = 0.0345 & 0.18847671066606      & 0.44                 \\\\\n",
       "\\end{tabular}\n"
      ],
      "text/markdown": [
       "\n",
       "| metodo | erro | corte |\n",
       "|---|---|---|\n",
       "| Logistico             | 0.186092507098424     | 0.54                  |\n",
       "| Logistico stepf 200   | 0.189500834471249     | 0.82                  |\n",
       "| Logistico stepb 200   | 0.189500834471249     | 0.82                  |\n",
       "| Ridge lambda = 0.0345 | 0.18847671066606      | 0.44                  |\n",
       "\n"
      ],
      "text/plain": [
       "  metodo                erro              corte\n",
       "1 Logistico             0.186092507098424 0.54 \n",
       "2 Logistico stepf 200   0.189500834471249 0.82 \n",
       "3 Logistico stepb 200   0.189500834471249 0.82 \n",
       "4 Ridge lambda = 0.0345 0.18847671066606  0.44 "
      ]
     },
     "metadata": {},
     "output_type": "display_data"
    }
   ],
   "source": [
    "resultados"
   ]
  },
  {
   "cell_type": "markdown",
   "metadata": {},
   "source": [
    "### Lasso"
   ]
  },
  {
   "cell_type": "code",
   "execution_count": 44,
   "metadata": {
    "ExecuteTime": {
     "end_time": "2019-12-15T09:20:34.979898Z",
     "start_time": "2019-12-15T08:31:58.661Z"
    }
   },
   "outputs": [
    {
     "name": "stdout",
     "output_type": "stream",
     "text": [
      "[1] 5.491953e-05\n"
     ]
    }
   ],
   "source": [
    "set.seed(1)\n",
    "lasso_cv = cv.glmnet(x_treino, y_treino, alpha=1,family='binomial')\n",
    "\n",
    "# Encontrando lambda que minimiza erro de predição\n",
    "print(lasso_cv$lambda.min)"
   ]
  },
  {
   "cell_type": "code",
   "execution_count": 45,
   "metadata": {
    "ExecuteTime": {
     "end_time": "2019-12-15T09:20:35.003703Z",
     "start_time": "2019-12-15T08:32:00.572Z"
    }
   },
   "outputs": [],
   "source": [
    "lambda_lasso=lasso_cv$lambda.min"
   ]
  },
  {
   "cell_type": "code",
   "execution_count": 46,
   "metadata": {
    "ExecuteTime": {
     "end_time": "2019-12-15T09:22:30.316875Z",
     "start_time": "2019-12-15T08:32:03.831Z"
    }
   },
   "outputs": [],
   "source": [
    "lasso_melhor_modelo = glmnet(x_treino, y_treino, alpha = 1, \n",
    "                             lambda = lasso_cv$lambda.min,family='binomial')"
   ]
  },
  {
   "cell_type": "code",
   "execution_count": 47,
   "metadata": {
    "ExecuteTime": {
     "end_time": "2019-12-15T09:22:31.044507Z",
     "start_time": "2019-12-15T08:32:04.348Z"
    }
   },
   "outputs": [],
   "source": [
    "# Porcentagem de acerto com Ridge\n",
    "x.test <- model.matrix(answer ~., teste)[,-1]\n",
    "pred <- predict(lasso_melhor_modelo,newx = x.test,s = lambda_lasso,type='response')\n",
    "temp <- escolhe_corte(pred, teste$answer)\n",
    "\n",
    "resultados[nrow(resultados)+1, ] = c(paste(\"Lasso lambda =\", round(lambda_lasso, 4)), \n",
    "                                     temp[2], temp[1])"
   ]
  },
  {
   "cell_type": "code",
   "execution_count": 48,
   "metadata": {
    "ExecuteTime": {
     "end_time": "2019-12-15T10:43:35.812160Z",
     "start_time": "2019-12-15T10:43:35.772Z"
    }
   },
   "outputs": [
    {
     "data": {
      "text/html": [
       "<table>\n",
       "<thead><tr><th scope=col>metodo</th><th scope=col>erro</th><th scope=col>corte</th></tr></thead>\n",
       "<tbody>\n",
       "\t<tr><td>Logistico            </td><td>0.186092507098424    </td><td>0.54                 </td></tr>\n",
       "\t<tr><td>Logistico stepf 200  </td><td>0.189500834471249    </td><td>0.82                 </td></tr>\n",
       "\t<tr><td>Logistico stepb 200  </td><td>0.189500834471249    </td><td>0.82                 </td></tr>\n",
       "\t<tr><td>Ridge lambda = 0.0345</td><td>0.18847671066606     </td><td>0.44                 </td></tr>\n",
       "\t<tr><td>Lasso lambda = 1e-04 </td><td>0.186087088453952    </td><td>0.54                 </td></tr>\n",
       "</tbody>\n",
       "</table>\n"
      ],
      "text/latex": [
       "\\begin{tabular}{r|lll}\n",
       " metodo & erro & corte\\\\\n",
       "\\hline\n",
       "\t Logistico             & 0.186092507098424     & 0.54                 \\\\\n",
       "\t Logistico stepf 200   & 0.189500834471249     & 0.82                 \\\\\n",
       "\t Logistico stepb 200   & 0.189500834471249     & 0.82                 \\\\\n",
       "\t Ridge lambda = 0.0345 & 0.18847671066606      & 0.44                 \\\\\n",
       "\t Lasso lambda = 1e-04  & 0.186087088453952     & 0.54                 \\\\\n",
       "\\end{tabular}\n"
      ],
      "text/markdown": [
       "\n",
       "| metodo | erro | corte |\n",
       "|---|---|---|\n",
       "| Logistico             | 0.186092507098424     | 0.54                  |\n",
       "| Logistico stepf 200   | 0.189500834471249     | 0.82                  |\n",
       "| Logistico stepb 200   | 0.189500834471249     | 0.82                  |\n",
       "| Ridge lambda = 0.0345 | 0.18847671066606      | 0.44                  |\n",
       "| Lasso lambda = 1e-04  | 0.186087088453952     | 0.54                  |\n",
       "\n"
      ],
      "text/plain": [
       "  metodo                erro              corte\n",
       "1 Logistico             0.186092507098424 0.54 \n",
       "2 Logistico stepf 200   0.189500834471249 0.82 \n",
       "3 Logistico stepb 200   0.189500834471249 0.82 \n",
       "4 Ridge lambda = 0.0345 0.18847671066606  0.44 \n",
       "5 Lasso lambda = 1e-04  0.186087088453952 0.54 "
      ]
     },
     "metadata": {},
     "output_type": "display_data"
    }
   ],
   "source": [
    "resultados"
   ]
  },
  {
   "cell_type": "markdown",
   "metadata": {},
   "source": [
    "### Árvore de classificação"
   ]
  },
  {
   "cell_type": "code",
   "execution_count": 89,
   "metadata": {
    "ExecuteTime": {
     "end_time": "2019-12-15T00:00:34.484383Z",
     "start_time": "2019-12-15T00:00:19.871Z"
    }
   },
   "outputs": [
    {
     "name": "stdout",
     "output_type": "stream",
     "text": [
      "package 'rpart.plot' successfully unpacked and MD5 sums checked\n",
      "\n",
      "The downloaded binary packages are in\n",
      "\tC:\\Users\\Vinicius_Maia\\AppData\\Local\\Temp\\Rtmp25LKhx\\downloaded_packages\n"
     ]
    }
   ],
   "source": [
    "install.packages('rpart.plot')"
   ]
  },
  {
   "cell_type": "code",
   "execution_count": 49,
   "metadata": {
    "ExecuteTime": {
     "end_time": "2019-12-15T10:43:53.691349Z",
     "start_time": "2019-12-15T10:43:53.611Z"
    }
   },
   "outputs": [],
   "source": [
    "library(rpart)\n",
    "library(rpart.plot)"
   ]
  },
  {
   "cell_type": "markdown",
   "metadata": {},
   "source": [
    "Criando fit de árvore\n",
    "\n",
    "Parâmetro cp é usado para economizar custo computacional não realizando splits que obviamente não valem a pena"
   ]
  },
  {
   "cell_type": "code",
   "execution_count": 50,
   "metadata": {
    "ExecuteTime": {
     "end_time": "2019-12-15T10:48:50.618038Z",
     "start_time": "2019-12-15T10:44:00.076Z"
    }
   },
   "outputs": [],
   "source": [
    "arvore <- rpart(answer ~ ., data = treino, control = rpart.control(cp = 0.0001))"
   ]
  },
  {
   "cell_type": "code",
   "execution_count": 51,
   "metadata": {
    "ExecuteTime": {
     "end_time": "2019-12-15T10:48:51.483062Z",
     "start_time": "2019-12-15T10:44:00.532Z"
    }
   },
   "outputs": [],
   "source": [
    "# Prevendo valores com árvore de classificação\n",
    "pred_arvore <- predict(arvore, teste, type=\"class\")"
   ]
  },
  {
   "cell_type": "code",
   "execution_count": 52,
   "metadata": {
    "ExecuteTime": {
     "end_time": "2019-12-15T10:48:51.521256Z",
     "start_time": "2019-12-15T10:44:01.156Z"
    }
   },
   "outputs": [
    {
     "data": {
      "text/html": [
       "0.110036413290851"
      ],
      "text/latex": [
       "0.110036413290851"
      ],
      "text/markdown": [
       "0.110036413290851"
      ],
      "text/plain": [
       "[1] 0.1100364"
      ]
     },
     "metadata": {},
     "output_type": "display_data"
    }
   ],
   "source": [
    "# Erro\n",
    "mean(pred_arvore != teste$answer)"
   ]
  },
  {
   "cell_type": "code",
   "execution_count": 53,
   "metadata": {
    "ExecuteTime": {
     "end_time": "2019-12-15T10:48:51.565398Z",
     "start_time": "2019-12-15T10:44:04.395Z"
    }
   },
   "outputs": [],
   "source": [
    "resultados[nrow(resultados)+1, ] = c(\"Arvore de decisao\", \n",
    "                                     mean(pred_arvore != teste$answer), NA)"
   ]
  },
  {
   "cell_type": "code",
   "execution_count": 54,
   "metadata": {
    "ExecuteTime": {
     "end_time": "2019-12-15T10:48:51.605078Z",
     "start_time": "2019-12-15T10:44:05.486Z"
    }
   },
   "outputs": [
    {
     "data": {
      "text/html": [
       "<table>\n",
       "<thead><tr><th scope=col>metodo</th><th scope=col>erro</th><th scope=col>corte</th></tr></thead>\n",
       "<tbody>\n",
       "\t<tr><td>Logistico            </td><td>0.186092507098424    </td><td>0.54                 </td></tr>\n",
       "\t<tr><td>Logistico stepf 200  </td><td>0.189500834471249    </td><td>0.82                 </td></tr>\n",
       "\t<tr><td>Logistico stepb 200  </td><td>0.189500834471249    </td><td>0.82                 </td></tr>\n",
       "\t<tr><td>Ridge lambda = 0.0345</td><td>0.18847671066606     </td><td>0.44                 </td></tr>\n",
       "\t<tr><td>Lasso lambda = 1e-04 </td><td>0.186087088453952    </td><td>0.54                 </td></tr>\n",
       "\t<tr><td>Arvore de decisao    </td><td>0.110036413290851    </td><td>NA                   </td></tr>\n",
       "</tbody>\n",
       "</table>\n"
      ],
      "text/latex": [
       "\\begin{tabular}{r|lll}\n",
       " metodo & erro & corte\\\\\n",
       "\\hline\n",
       "\t Logistico             & 0.186092507098424     & 0.54                 \\\\\n",
       "\t Logistico stepf 200   & 0.189500834471249     & 0.82                 \\\\\n",
       "\t Logistico stepb 200   & 0.189500834471249     & 0.82                 \\\\\n",
       "\t Ridge lambda = 0.0345 & 0.18847671066606      & 0.44                 \\\\\n",
       "\t Lasso lambda = 1e-04  & 0.186087088453952     & 0.54                 \\\\\n",
       "\t Arvore de decisao     & 0.110036413290851     & NA                   \\\\\n",
       "\\end{tabular}\n"
      ],
      "text/markdown": [
       "\n",
       "| metodo | erro | corte |\n",
       "|---|---|---|\n",
       "| Logistico             | 0.186092507098424     | 0.54                  |\n",
       "| Logistico stepf 200   | 0.189500834471249     | 0.82                  |\n",
       "| Logistico stepb 200   | 0.189500834471249     | 0.82                  |\n",
       "| Ridge lambda = 0.0345 | 0.18847671066606      | 0.44                  |\n",
       "| Lasso lambda = 1e-04  | 0.186087088453952     | 0.54                  |\n",
       "| Arvore de decisao     | 0.110036413290851     | NA                    |\n",
       "\n"
      ],
      "text/plain": [
       "  metodo                erro              corte\n",
       "1 Logistico             0.186092507098424 0.54 \n",
       "2 Logistico stepf 200   0.189500834471249 0.82 \n",
       "3 Logistico stepb 200   0.189500834471249 0.82 \n",
       "4 Ridge lambda = 0.0345 0.18847671066606  0.44 \n",
       "5 Lasso lambda = 1e-04  0.186087088453952 0.54 \n",
       "6 Arvore de decisao     0.110036413290851 NA   "
      ]
     },
     "metadata": {},
     "output_type": "display_data"
    }
   ],
   "source": [
    "resultados"
   ]
  },
  {
   "cell_type": "code",
   "execution_count": 55,
   "metadata": {
    "ExecuteTime": {
     "end_time": "2019-12-15T10:48:51.758454Z",
     "start_time": "2019-12-15T10:44:08.315Z"
    }
   },
   "outputs": [
    {
     "data": {
      "image/png": "[encoded data removed]",
      "text/plain": [
       "plot without title"
      ]
     },
     "metadata": {},
     "output_type": "display_data"
    }
   ],
   "source": [
    "plotcp(arvore)"
   ]
  },
  {
   "cell_type": "markdown",
   "metadata": {},
   "source": [
    "E possivel perceber pelo grafico anterior que o erro cai enquanto arvore for crescendo, permitindo observar que pruning vai acabar nao sendo feito, caso utilize o cp com menor erro."
   ]
  },
  {
   "cell_type": "code",
   "execution_count": 56,
   "metadata": {
    "ExecuteTime": {
     "end_time": "2019-12-15T10:48:51.792181Z",
     "start_time": "2019-12-15T10:44:11.693Z"
    }
   },
   "outputs": [],
   "source": [
    "# Encontrando cp com menor erro, que remete ao tamanho da árvore ideal, garantindo um pruning que diminua o erro.\n",
    "melhorcp <- arvore$cptable[which.min(arvore$cptable[,\"xerror\"]),\"CP\"]"
   ]
  },
  {
   "cell_type": "code",
   "execution_count": 57,
   "metadata": {
    "ExecuteTime": {
     "end_time": "2019-12-15T10:48:51.846741Z",
     "start_time": "2019-12-15T10:44:12.909Z"
    }
   },
   "outputs": [
    {
     "data": {
      "text/html": [
       "1e-04"
      ],
      "text/latex": [
       "1e-04"
      ],
      "text/markdown": [
       "1e-04"
      ],
      "text/plain": [
       "[1] 1e-04"
      ]
     },
     "metadata": {},
     "output_type": "display_data"
    }
   ],
   "source": [
    "melhorcp"
   ]
  },
  {
   "cell_type": "markdown",
   "metadata": {},
   "source": [
    "### Poda\n",
    "A poda da árvore é realizada com o intuito de aumentar o viés da árvore e diminuir sua variância. No caso, não acarretará em mudanças na arvore de decisão, visto que o menor erro foi apresentado com a maior árvore, como pode ser visto no gráfico anterior"
   ]
  },
  {
   "cell_type": "code",
   "execution_count": 58,
   "metadata": {
    "ExecuteTime": {
     "end_time": "2019-12-15T10:48:51.880966Z",
     "start_time": "2019-12-15T10:44:19.013Z"
    }
   },
   "outputs": [],
   "source": [
    "poda <- prune(arvore, cp = melhorcp)"
   ]
  },
  {
   "cell_type": "code",
   "execution_count": 59,
   "metadata": {
    "ExecuteTime": {
     "end_time": "2019-12-15T10:48:53.061941Z",
     "start_time": "2019-12-15T10:44:19.550Z"
    }
   },
   "outputs": [],
   "source": [
    "pred_poda <- predict(poda, teste, type='class')\n",
    "resultados[nrow(resultados)+1, ] = c(\"Arvore de decisao podada\", \n",
    "                                     mean(pred_poda != teste$answer), NA)"
   ]
  },
  {
   "cell_type": "code",
   "execution_count": 60,
   "metadata": {
    "ExecuteTime": {
     "end_time": "2019-12-15T10:48:53.095671Z",
     "start_time": "2019-12-15T10:44:20.260Z"
    }
   },
   "outputs": [
    {
     "data": {
      "text/html": [
       "<table>\n",
       "<thead><tr><th scope=col>metodo</th><th scope=col>erro</th><th scope=col>corte</th></tr></thead>\n",
       "<tbody>\n",
       "\t<tr><td>Logistico               </td><td>0.186092507098424       </td><td>0.54                    </td></tr>\n",
       "\t<tr><td>Logistico stepf 200     </td><td>0.189500834471249       </td><td>0.82                    </td></tr>\n",
       "\t<tr><td>Logistico stepb 200     </td><td>0.189500834471249       </td><td>0.82                    </td></tr>\n",
       "\t<tr><td>Ridge lambda = 0.0345   </td><td>0.18847671066606        </td><td>0.44                    </td></tr>\n",
       "\t<tr><td>Lasso lambda = 1e-04    </td><td>0.186087088453952       </td><td>0.54                    </td></tr>\n",
       "\t<tr><td>Arvore de decisao       </td><td>0.110036413290851       </td><td>NA                      </td></tr>\n",
       "\t<tr><td>Arvore de decisao podada</td><td>0.110036413290851       </td><td>NA                      </td></tr>\n",
       "</tbody>\n",
       "</table>\n"
      ],
      "text/latex": [
       "\\begin{tabular}{r|lll}\n",
       " metodo & erro & corte\\\\\n",
       "\\hline\n",
       "\t Logistico                & 0.186092507098424        & 0.54                    \\\\\n",
       "\t Logistico stepf 200      & 0.189500834471249        & 0.82                    \\\\\n",
       "\t Logistico stepb 200      & 0.189500834471249        & 0.82                    \\\\\n",
       "\t Ridge lambda = 0.0345    & 0.18847671066606         & 0.44                    \\\\\n",
       "\t Lasso lambda = 1e-04     & 0.186087088453952        & 0.54                    \\\\\n",
       "\t Arvore de decisao        & 0.110036413290851        & NA                      \\\\\n",
       "\t Arvore de decisao podada & 0.110036413290851        & NA                      \\\\\n",
       "\\end{tabular}\n"
      ],
      "text/markdown": [
       "\n",
       "| metodo | erro | corte |\n",
       "|---|---|---|\n",
       "| Logistico                | 0.186092507098424        | 0.54                     |\n",
       "| Logistico stepf 200      | 0.189500834471249        | 0.82                     |\n",
       "| Logistico stepb 200      | 0.189500834471249        | 0.82                     |\n",
       "| Ridge lambda = 0.0345    | 0.18847671066606         | 0.44                     |\n",
       "| Lasso lambda = 1e-04     | 0.186087088453952        | 0.54                     |\n",
       "| Arvore de decisao        | 0.110036413290851        | NA                       |\n",
       "| Arvore de decisao podada | 0.110036413290851        | NA                       |\n",
       "\n"
      ],
      "text/plain": [
       "  metodo                   erro              corte\n",
       "1 Logistico                0.186092507098424 0.54 \n",
       "2 Logistico stepf 200      0.189500834471249 0.82 \n",
       "3 Logistico stepb 200      0.189500834471249 0.82 \n",
       "4 Ridge lambda = 0.0345    0.18847671066606  0.44 \n",
       "5 Lasso lambda = 1e-04     0.186087088453952 0.54 \n",
       "6 Arvore de decisao        0.110036413290851 NA   \n",
       "7 Arvore de decisao podada 0.110036413290851 NA   "
      ]
     },
     "metadata": {},
     "output_type": "display_data"
    }
   ],
   "source": [
    "resultados"
   ]
  },
  {
   "cell_type": "markdown",
   "metadata": {},
   "source": [
    "Obs: Árvore se manteve igual e não precisou de prune. Isso ocorreu, pois o melhor valor de cp não alterou a árvore, significando que sub-árvores possuem erro maior."
   ]
  },
  {
   "cell_type": "markdown",
   "metadata": {},
   "source": [
    "### Bagging"
   ]
  },
  {
   "cell_type": "code",
   "execution_count": 37,
   "metadata": {
    "ExecuteTime": {
     "end_time": "2019-12-15T13:57:27.482607Z",
     "start_time": "2019-12-15T13:57:26.408Z"
    }
   },
   "outputs": [],
   "source": [
    "library(ipred)"
   ]
  },
  {
   "cell_type": "markdown",
   "metadata": {},
   "source": [
    "Modo de cálculo com função bagging que é menos flexivel que randomForest, por exemplo. Setting do parâmetro coob=True para usar erro out-of-bag sample (Breiman, 1996b), e portanto, deixar menos onerosa a modelagem do ponto de vista computacional em relação à validacao cruzada."
   ]
  },
  {
   "cell_type": "code",
   "execution_count": 38,
   "metadata": {
    "ExecuteTime": {
     "end_time": "2019-12-15T14:39:25.492545Z",
     "start_time": "2019-12-15T13:57:37.610Z"
    }
   },
   "outputs": [],
   "source": [
    "set.seed(1)\n",
    "mod_bagging <- bagging(answer ~ ., data = treino, coob=TRUE, importance=TRUE)"
   ]
  },
  {
   "cell_type": "code",
   "execution_count": 44,
   "metadata": {
    "ExecuteTime": {
     "end_time": "2019-12-15T14:52:25.249468Z",
     "start_time": "2019-12-15T14:52:25.219Z"
    }
   },
   "outputs": [
    {
     "data": {
      "text/plain": [
       "\n",
       "Bagging classification trees with 25 bootstrap replications \n",
       "\n",
       "Call: bagging.data.frame(formula = answer ~ ., data = treino, coob = TRUE, \n",
       "    importance = TRUE)\n",
       "\n",
       "Out-of-bag estimate of misclassification error:  0.0125 \n"
      ]
     },
     "metadata": {},
     "output_type": "display_data"
    }
   ],
   "source": [
    "mod_bagging"
   ]
  },
  {
   "cell_type": "code",
   "execution_count": 55,
   "metadata": {
    "ExecuteTime": {
     "end_time": "2019-12-15T15:16:17.968529Z",
     "start_time": "2019-12-15T15:09:51.626Z"
    }
   },
   "outputs": [],
   "source": [
    "pred_bag <- predict(mod_bagging, newdata = teste)"
   ]
  },
  {
   "cell_type": "markdown",
   "metadata": {},
   "source": [
    "Bagging utiliza o sample de teste e gera 25 números (por default) de amostras de treinamento bootstrap. Dessa forma, treinou-se com tais amostras pelo método de árvores, e decide se a árvore com as variáveis mais relevantes através de votação (no caso de classificação).\n",
    "\n",
    "nbag=25"
   ]
  },
  {
   "cell_type": "code",
   "execution_count": 66,
   "metadata": {
    "ExecuteTime": {
     "end_time": "2019-12-15T11:35:39.248819Z",
     "start_time": "2019-12-15T10:48:37.996Z"
    }
   },
   "outputs": [],
   "source": [
    "resultados[nrow(resultados)+1, ] = c(\"Bagging\", \n",
    "                                     mean(pred_bag != teste$answer), NA)"
   ]
  },
  {
   "cell_type": "code",
   "execution_count": 67,
   "metadata": {
    "ExecuteTime": {
     "end_time": "2019-12-15T11:35:39.282547Z",
     "start_time": "2019-12-15T10:48:38.338Z"
    }
   },
   "outputs": [
    {
     "data": {
      "text/html": [
       "0.0101437024513948"
      ],
      "text/latex": [
       "0.0101437024513948"
      ],
      "text/markdown": [
       "0.0101437024513948"
      ],
      "text/plain": [
       "[1] 0.0101437"
      ]
     },
     "metadata": {},
     "output_type": "display_data"
    }
   ],
   "source": [
    "mean(pred_bag != teste$answer)"
   ]
  },
  {
   "cell_type": "code",
   "execution_count": 75,
   "metadata": {
    "ExecuteTime": {
     "end_time": "2019-12-15T11:42:00.209599Z",
     "start_time": "2019-12-15T11:42:00.172Z"
    }
   },
   "outputs": [
    {
     "data": {
      "text/html": [
       "<table>\n",
       "<thead><tr><th scope=col>metodo</th><th scope=col>erro</th><th scope=col>corte</th></tr></thead>\n",
       "<tbody>\n",
       "\t<tr><td>Logistico               </td><td>0.186092507098424       </td><td>0.54                    </td></tr>\n",
       "\t<tr><td>Logistico stepf 200     </td><td>0.189500834471249       </td><td>0.82                    </td></tr>\n",
       "\t<tr><td>Logistico stepb 200     </td><td>0.189500834471249       </td><td>0.82                    </td></tr>\n",
       "\t<tr><td>Ridge lambda = 0.0345   </td><td>0.18847671066606        </td><td>0.44                    </td></tr>\n",
       "\t<tr><td>Lasso lambda = 1e-04    </td><td>0.186087088453952       </td><td>0.54                    </td></tr>\n",
       "\t<tr><td>Arvore de decisao       </td><td>0.110036413290851       </td><td>NA                      </td></tr>\n",
       "\t<tr><td>Arvore de decisao podada</td><td>0.110036413290851       </td><td>NA                      </td></tr>\n",
       "\t<tr><td>Bagging                 </td><td>0.0101437024513948      </td><td>NA                      </td></tr>\n",
       "</tbody>\n",
       "</table>\n"
      ],
      "text/latex": [
       "\\begin{tabular}{r|lll}\n",
       " metodo & erro & corte\\\\\n",
       "\\hline\n",
       "\t Logistico                & 0.186092507098424        & 0.54                    \\\\\n",
       "\t Logistico stepf 200      & 0.189500834471249        & 0.82                    \\\\\n",
       "\t Logistico stepb 200      & 0.189500834471249        & 0.82                    \\\\\n",
       "\t Ridge lambda = 0.0345    & 0.18847671066606         & 0.44                    \\\\\n",
       "\t Lasso lambda = 1e-04     & 0.186087088453952        & 0.54                    \\\\\n",
       "\t Arvore de decisao        & 0.110036413290851        & NA                      \\\\\n",
       "\t Arvore de decisao podada & 0.110036413290851        & NA                      \\\\\n",
       "\t Bagging                  & 0.0101437024513948       & NA                      \\\\\n",
       "\\end{tabular}\n"
      ],
      "text/markdown": [
       "\n",
       "| metodo | erro | corte |\n",
       "|---|---|---|\n",
       "| Logistico                | 0.186092507098424        | 0.54                     |\n",
       "| Logistico stepf 200      | 0.189500834471249        | 0.82                     |\n",
       "| Logistico stepb 200      | 0.189500834471249        | 0.82                     |\n",
       "| Ridge lambda = 0.0345    | 0.18847671066606         | 0.44                     |\n",
       "| Lasso lambda = 1e-04     | 0.186087088453952        | 0.54                     |\n",
       "| Arvore de decisao        | 0.110036413290851        | NA                       |\n",
       "| Arvore de decisao podada | 0.110036413290851        | NA                       |\n",
       "| Bagging                  | 0.0101437024513948       | NA                       |\n",
       "\n"
      ],
      "text/plain": [
       "  metodo                   erro               corte\n",
       "1 Logistico                0.186092507098424  0.54 \n",
       "2 Logistico stepf 200      0.189500834471249  0.82 \n",
       "3 Logistico stepb 200      0.189500834471249  0.82 \n",
       "4 Ridge lambda = 0.0345    0.18847671066606   0.44 \n",
       "5 Lasso lambda = 1e-04     0.186087088453952  0.54 \n",
       "6 Arvore de decisao        0.110036413290851  NA   \n",
       "7 Arvore de decisao podada 0.110036413290851  NA   \n",
       "8 Bagging                  0.0101437024513948 NA   "
      ]
     },
     "metadata": {},
     "output_type": "display_data"
    }
   ],
   "source": [
    "resultados"
   ]
  },
  {
   "cell_type": "markdown",
   "metadata": {},
   "source": [
    "Excelente resultado conseguido pelo metodo de bagging de apenas 1% de erro pela validação cruzada!\n",
    "\n",
    "\n",
    "Vamos ver a matriz de confusão gerada"
   ]
  },
  {
   "cell_type": "code",
   "execution_count": 78,
   "metadata": {
    "ExecuteTime": {
     "end_time": "2019-12-15T15:55:27.954187Z",
     "start_time": "2019-12-15T15:55:27.913Z"
    }
   },
   "outputs": [
    {
     "data": {
      "text/plain": [
       "       observado\n",
       "predito     0     1\n",
       "      0 91388   467\n",
       "      1  1405 91288"
      ]
     },
     "metadata": {},
     "output_type": "display_data"
    }
   ],
   "source": [
    "m_conf <- data.frame(observado = teste$answer, \n",
    "                        predito = pred_bag)\n",
    "\n",
    "\n",
    "table(predito = m_conf$predito,observado = m_conf$observado)\n"
   ]
  },
  {
   "cell_type": "code",
   "execution_count": 80,
   "metadata": {
    "ExecuteTime": {
     "end_time": "2019-12-15T15:58:53.774133Z",
     "start_time": "2019-12-15T15:58:53.682Z"
    }
   },
   "outputs": [
    {
     "name": "stdout",
     "output_type": "stream",
     "text": [
      "Acuracia:  0.9898563 \n",
      "Sensibilidade:  0.9848588 \n",
      "Especificidade:  0.9949104"
     ]
    }
   ],
   "source": [
    "# Taxa de acerto\n",
    "# mean(m_conf$observado == m_conf$predito)\n",
    "cat(\"Acuracia: \", mean(m_conf$observado == m_conf$predito),\"\\n\")\n",
    "\n",
    "# Verdadeiro Positivo (1 - Erro Tipo II ou Sensibilidade)\n",
    "cat(\"Sensibilidade: \", sum(m_conf$predito == 0 & m_conf$observado == 0)/sum(m_conf$observado == 0),\"\\n\")\n",
    "\n",
    "# Falso Positivo (Especificidade)\n",
    "cat(\"Especificidade: \", sum(m_conf$predito == 1 & m_conf$observado == 1)/sum(m_conf$observado == 1))\n"
   ]
  },
  {
   "cell_type": "markdown",
   "metadata": {},
   "source": [
    "Pelos índices explicitados anteriormente, é perceptível que o modelo está prevendo pouco melhor casos de resposta 1 do que de resposta 0. Mas, o modelo se mostra bem balanceado e bem interessante para uso, com erro baixo e equilíbrio nas respostas (percebido nos índices de sensibilidade e especificidade)"
   ]
  },
  {
   "cell_type": "markdown",
   "metadata": {},
   "source": [
    "### Bagging 2\n",
    "\n",
    "Library ipred não fornece importância de variáveis. Por isso, a biblioteca caret será utilizada, alterando nbagg = 50 para tentar ganho em predição."
   ]
  },
  {
   "cell_type": "code",
   "execution_count": 7,
   "metadata": {
    "ExecuteTime": {
     "end_time": "2019-12-15T19:40:39.915577Z",
     "start_time": "2019-12-15T19:40:22.963Z"
    }
   },
   "outputs": [
    {
     "name": "stdout",
     "output_type": "stream",
     "text": [
      "package 'rpart' successfully unpacked and MD5 sums checked\n"
     ]
    },
    {
     "name": "stderr",
     "output_type": "stream",
     "text": [
      "Warning message:\n",
      "\"cannot remove prior installation of package 'rpart'\"Warning message in file.copy(savedcopy, lib, recursive = TRUE):\n",
      "\"problem copying C:\\Anaconda3\\Lib\\R\\library\\00LOCK\\rpart\\libs\\x64\\rpart.dll to C:\\Anaconda3\\Lib\\R\\library\\rpart\\libs\\x64\\rpart.dll: Permission denied\"Warning message:\n",
      "\"restored 'rpart'\""
     ]
    },
    {
     "name": "stdout",
     "output_type": "stream",
     "text": [
      "\n",
      "The downloaded binary packages are in\n",
      "\tC:\\Users\\Vinicius_Maia\\AppData\\Local\\Temp\\RtmpQnB5qG\\downloaded_packages\n"
     ]
    }
   ],
   "source": [
    "install.packages('rpart')"
   ]
  },
  {
   "cell_type": "code",
   "execution_count": 4,
   "metadata": {
    "ExecuteTime": {
     "end_time": "2019-12-15T19:37:55.444186Z",
     "start_time": "2019-12-15T19:37:53.482Z"
    }
   },
   "outputs": [
    {
     "name": "stderr",
     "output_type": "stream",
     "text": [
      "Loading required package: lattice\n",
      "Loading required package: ggplot2\n"
     ]
    }
   ],
   "source": [
    "library(caret)"
   ]
  },
  {
   "cell_type": "code",
   "execution_count": null,
   "metadata": {
    "ExecuteTime": {
     "start_time": "2019-12-15T19:50:02.880Z"
    }
   },
   "outputs": [],
   "source": [
    "set.seed(1)\n",
    "mod_bagging2 <- train(\n",
    "  answer ~ .,\n",
    "  data = treino,\n",
    "  method = \"treebag\",\n",
    "  nbagg = 1,\n",
    "  oob=TRUE\n",
    ")"
   ]
  },
  {
   "cell_type": "code",
   "execution_count": null,
   "metadata": {},
   "outputs": [],
   "source": []
  },
  {
   "cell_type": "markdown",
   "metadata": {},
   "source": [
    "### Random Forest"
   ]
  },
  {
   "cell_type": "code",
   "execution_count": 4,
   "metadata": {
    "ExecuteTime": {
     "end_time": "2019-12-15T12:10:50.602810Z",
     "start_time": "2019-12-15T12:10:47.156Z"
    }
   },
   "outputs": [
    {
     "name": "stderr",
     "output_type": "stream",
     "text": [
      "randomForest 4.6-14\n",
      "Type rfNews() to see new features/changes/bug fixes.\n"
     ]
    }
   ],
   "source": [
    "library(randomForest)"
   ]
  },
  {
   "cell_type": "markdown",
   "metadata": {
    "ExecuteTime": {
     "end_time": "2019-12-15T07:32:19.829118Z",
     "start_time": "2019-12-15T07:29:52.955Z"
    }
   },
   "source": [
    "Há uma extensa discussão sobre quais valores settar para mtry e ntree. Mtry é o número de parâmetros disponíveis para cada split a cada 3 nós (valor default = raiz do número de variaveis preditoras). Ntree é o número de árvores para crescer.\n",
    "\n",
    "Na literatura, há consenso em dizer que ntree necessita ser maior para garantir estabilidade no modelo, e assim, optou-se por utilizar valor mais alto possível (pode dar erros de estouro de memória), enquanto mtry optou-se por utilizar valor default, já que autores não possuem consenso se pode ou não diferir no desempenho do modelo (de acordo com Cutler et al. (2007) e  Strobl et al. (2008))."
   ]
  },
  {
   "cell_type": "markdown",
   "metadata": {},
   "source": [
    "Valor máximo de ntree que foi possível aplicar devido a custo computacional: 150"
   ]
  },
  {
   "cell_type": "code",
   "execution_count": 19,
   "metadata": {
    "ExecuteTime": {
     "end_time": "2019-12-15T13:48:43.254386Z",
     "start_time": "2019-12-15T13:10:39.742Z"
    }
   },
   "outputs": [],
   "source": [
    "set.seed(1)\n",
    "mod_rf <- randomForest(answer~., data=treino,ntree=150,importance=TRUE)"
   ]
  },
  {
   "cell_type": "code",
   "execution_count": 20,
   "metadata": {
    "ExecuteTime": {
     "end_time": "2019-12-15T13:48:52.151254Z",
     "start_time": "2019-12-15T13:10:43.795Z"
    }
   },
   "outputs": [],
   "source": [
    "pred_rf <- predict(mod_rf , newdata = teste)"
   ]
  },
  {
   "cell_type": "code",
   "execution_count": 21,
   "metadata": {
    "ExecuteTime": {
     "end_time": "2019-12-15T13:48:52.205039Z",
     "start_time": "2019-12-15T13:10:44.013Z"
    }
   },
   "outputs": [
    {
     "data": {
      "text/html": [
       "0.0239558272102651"
      ],
      "text/latex": [
       "0.0239558272102651"
      ],
      "text/markdown": [
       "0.0239558272102651"
      ],
      "text/plain": [
       "[1] 0.02395583"
      ]
     },
     "metadata": {},
     "output_type": "display_data"
    }
   ],
   "source": [
    "mean(pred_rf != teste$answer)"
   ]
  },
  {
   "cell_type": "markdown",
   "metadata": {},
   "source": [
    "Matriz de confusão"
   ]
  },
  {
   "cell_type": "code",
   "execution_count": 57,
   "metadata": {
    "ExecuteTime": {
     "end_time": "2019-12-15T15:16:58.609281Z",
     "start_time": "2019-12-15T15:16:58.578Z"
    }
   },
   "outputs": [
    {
     "name": "stdout",
     "output_type": "stream",
     "text": [
      "\n",
      "Call:\n",
      " randomForest(formula = answer ~ ., data = treino, ntree = 150,      importance = TRUE) \n",
      "               Type of random forest: classification\n",
      "                     Number of trees: 150\n",
      "No. of variables tried at each split: 6\n",
      "\n",
      "        OOB estimate of  error rate: 2.53%\n",
      "Confusion matrix:\n",
      "       0      1 class.error\n",
      "0 358667  13628  0.03660538\n",
      "1   5019 360880  0.01371690\n"
     ]
    }
   ],
   "source": [
    "print(mod_rf)"
   ]
  },
  {
   "cell_type": "markdown",
   "metadata": {},
   "source": [
    "#### Importância de variáveis no modelo Random Forest"
   ]
  },
  {
   "cell_type": "code",
   "execution_count": 36,
   "metadata": {
    "ExecuteTime": {
     "end_time": "2019-12-15T13:53:02.958337Z",
     "start_time": "2019-12-15T13:53:02.490Z"
    }
   },
   "outputs": [
    {
     "data": {
      "image/png": "[encoded data removed]",
      "text/plain": [
       "plot without title"
      ]
     },
     "metadata": {},
     "output_type": "display_data"
    }
   ],
   "source": [
    "library(ggplot2)\n",
    "library(dplyr)\n",
    "importance = importance(mod_rf)\n",
    "varImportance = data.frame(Variables = row.names(importance),\n",
    " Importance =round(importance[, 'MeanDecreaseAccuracy'],2))\n",
    "rankImportance= mutate(varImportance,Rank=paste('#',dense_rank(desc(Importance))))\n",
    "ggplot(rankImportance,aes(x=reorder(Variables,Importance),\n",
    " y=Importance,fill=Importance))+ \n",
    " geom_bar(stat='identity') + \n",
    " geom_text(aes(x = Variables, y = 0.5, label = Rank),\n",
    " hjust=0, vjust=0.55, size = 4, colour = 'white') +\n",
    " labs(x = 'Variables') +\n",
    " coord_flip() + \n",
    " theme_classic()"
   ]
  },
  {
   "cell_type": "code",
   "execution_count": 14,
   "metadata": {
    "ExecuteTime": {
     "end_time": "2019-12-15T12:46:47.860384Z",
     "start_time": "2019-12-15T12:46:47.834Z"
    }
   },
   "outputs": [],
   "source": [
    "metodo <- c(\n",
    "'Logistico',\n",
    "'Logistico stepf',\n",
    "'Logistico stepb',\n",
    "'Ridge lambda = 0.0345',\n",
    "'Lasso lambda = 1e-04',\n",
    "'Arvore de decisao',\n",
    "'Arvore de decisao podada',\n",
    "'Bagging',\n",
    "'Random forest')\n"
   ]
  },
  {
   "cell_type": "code",
   "execution_count": 15,
   "metadata": {
    "ExecuteTime": {
     "end_time": "2019-12-15T12:46:48.118608Z",
     "start_time": "2019-12-15T12:46:48.090Z"
    }
   },
   "outputs": [],
   "source": [
    "erro <- c(\n",
    "0.186092507098424,\n",
    "0.189500834471249,\n",
    "0.189500834471249,\n",
    "0.18847671066606,\n",
    "0.186087088453952,\n",
    "0.110036413290851,\n",
    "0.110036413290851,\n",
    "0.0101437024513948,\n",
    "0.023961245854737)\n"
   ]
  },
  {
   "cell_type": "code",
   "execution_count": 16,
   "metadata": {
    "ExecuteTime": {
     "end_time": "2019-12-15T12:46:48.435967Z",
     "start_time": "2019-12-15T12:46:48.411Z"
    }
   },
   "outputs": [],
   "source": [
    "corte <- c(\n",
    "0.54,\n",
    "0.82,\n",
    "0.82,\n",
    "0.44,\n",
    "0.54,\n",
    "NA,\n",
    "NA,\n",
    "NA,\n",
    "NA)\n"
   ]
  },
  {
   "cell_type": "code",
   "execution_count": 17,
   "metadata": {
    "ExecuteTime": {
     "end_time": "2019-12-15T12:46:50.199443Z",
     "start_time": "2019-12-15T12:46:50.171Z"
    }
   },
   "outputs": [],
   "source": [
    "resultados <- data.frame(metodo, erro, corte)"
   ]
  },
  {
   "cell_type": "code",
   "execution_count": 18,
   "metadata": {
    "ExecuteTime": {
     "end_time": "2019-12-15T12:46:55.536824Z",
     "start_time": "2019-12-15T12:46:55.492Z"
    },
    "scrolled": true
   },
   "outputs": [
    {
     "data": {
      "text/html": [
       "<table>\n",
       "<thead><tr><th scope=col>metodo</th><th scope=col>erro</th><th scope=col>corte</th></tr></thead>\n",
       "<tbody>\n",
       "\t<tr><td>Logistico               </td><td>0.18609251              </td><td>0.54                    </td></tr>\n",
       "\t<tr><td>Logistico stepf         </td><td>0.18950083              </td><td>0.82                    </td></tr>\n",
       "\t<tr><td>Logistico stepb         </td><td>0.18950083              </td><td>0.82                    </td></tr>\n",
       "\t<tr><td>Ridge lambda = 0.0345   </td><td>0.18847671              </td><td>0.44                    </td></tr>\n",
       "\t<tr><td>Lasso lambda = 1e-04    </td><td>0.18608709              </td><td>0.54                    </td></tr>\n",
       "\t<tr><td>Arvore de decisao       </td><td>0.11003641              </td><td>  NA                    </td></tr>\n",
       "\t<tr><td>Arvore de decisao podada</td><td>0.11003641              </td><td>  NA                    </td></tr>\n",
       "\t<tr><td>Bagging                 </td><td>0.01014370              </td><td>  NA                    </td></tr>\n",
       "\t<tr><td>Random forest           </td><td>0.02396125              </td><td>  NA                    </td></tr>\n",
       "</tbody>\n",
       "</table>\n"
      ],
      "text/latex": [
       "\\begin{tabular}{r|lll}\n",
       " metodo & erro & corte\\\\\n",
       "\\hline\n",
       "\t Logistico                & 0.18609251               & 0.54                    \\\\\n",
       "\t Logistico stepf          & 0.18950083               & 0.82                    \\\\\n",
       "\t Logistico stepb          & 0.18950083               & 0.82                    \\\\\n",
       "\t Ridge lambda = 0.0345    & 0.18847671               & 0.44                    \\\\\n",
       "\t Lasso lambda = 1e-04     & 0.18608709               & 0.54                    \\\\\n",
       "\t Arvore de decisao        & 0.11003641               &   NA                    \\\\\n",
       "\t Arvore de decisao podada & 0.11003641               &   NA                    \\\\\n",
       "\t Bagging                  & 0.01014370               &   NA                    \\\\\n",
       "\t Random forest            & 0.02396125               &   NA                    \\\\\n",
       "\\end{tabular}\n"
      ],
      "text/markdown": [
       "\n",
       "| metodo | erro | corte |\n",
       "|---|---|---|\n",
       "| Logistico                | 0.18609251               | 0.54                     |\n",
       "| Logistico stepf          | 0.18950083               | 0.82                     |\n",
       "| Logistico stepb          | 0.18950083               | 0.82                     |\n",
       "| Ridge lambda = 0.0345    | 0.18847671               | 0.44                     |\n",
       "| Lasso lambda = 1e-04     | 0.18608709               | 0.54                     |\n",
       "| Arvore de decisao        | 0.11003641               |   NA                     |\n",
       "| Arvore de decisao podada | 0.11003641               |   NA                     |\n",
       "| Bagging                  | 0.01014370               |   NA                     |\n",
       "| Random forest            | 0.02396125               |   NA                     |\n",
       "\n"
      ],
      "text/plain": [
       "  metodo                   erro       corte\n",
       "1 Logistico                0.18609251 0.54 \n",
       "2 Logistico stepf          0.18950083 0.82 \n",
       "3 Logistico stepb          0.18950083 0.82 \n",
       "4 Ridge lambda = 0.0345    0.18847671 0.44 \n",
       "5 Lasso lambda = 1e-04     0.18608709 0.54 \n",
       "6 Arvore de decisao        0.11003641   NA \n",
       "7 Arvore de decisao podada 0.11003641   NA \n",
       "8 Bagging                  0.01014370   NA \n",
       "9 Random forest            0.02396125   NA "
      ]
     },
     "metadata": {},
     "output_type": "display_data"
    }
   ],
   "source": [
    "resultados[nrow(resultados)+1, ] = c(\"Random forest\", \n",
    "                                     mean(pred_rf != teste$answer), NA)\n",
    "resultados"
   ]
  }
 ],
 "metadata": {
  "kernelspec": {
   "display_name": "R",
   "language": "R",
   "name": "ir"
  },
  "language_info": {
   "codemirror_mode": "r",
   "file_extension": ".r",
   "mimetype": "text/x-r-source",
   "name": "R",
   "pygments_lexer": "r",
   "version": "3.6.1"
  }
 },
 "nbformat": 4,
 "nbformat_minor": 2
}
